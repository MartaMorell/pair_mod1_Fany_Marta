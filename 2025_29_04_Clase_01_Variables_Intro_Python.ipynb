{
 "cells": [
  {
   "cell_type": "markdown",
   "id": "8a0c7c00",
   "metadata": {},
   "source": [
    "# Introducción a Python - Variables, Tipos de Datos y Operaciones Básicas"
   ]
  },
  {
   "cell_type": "markdown",
   "id": "1d0c1c55",
   "metadata": {},
   "source": [
    "- Python es un lenguaje de programación, es decir, una forma en la que las personas le damos instrucciones a la computadora para que haga lo que queremos. \n",
    "- Es un lenguaje fácil de leer y de escribir, por eso muchas personas lo usan para comenzar a programar.\n",
    "- Python sirve para muchas cosas: hacer páginas web, juegos, educación, ciencia, empresas, análisis de datos, inteligencia artificial, automatizar tareas repetitivas, etc."
   ]
  },
  {
   "cell_type": "markdown",
   "id": "a6b498d3",
   "metadata": {},
   "source": [
    "### Expresiones en Python\n",
    "\n",
    "Las expresiones son simplemente valores combinados con operadores, y siempre se evalúan en un solo valor. "
   ]
  },
  {
   "cell_type": "code",
   "execution_count": 3,
   "id": "a4cf3e04",
   "metadata": {},
   "outputs": [
    {
     "data": {
      "text/plain": [
       "5"
      ]
     },
     "execution_count": 3,
     "metadata": {},
     "output_type": "execute_result"
    }
   ],
   "source": [
    "3 + 2"
   ]
  },
  {
   "cell_type": "code",
   "execution_count": 4,
   "id": "524a9043",
   "metadata": {},
   "outputs": [
    {
     "data": {
      "text/plain": [
       "4.0"
      ]
     },
     "execution_count": 4,
     "metadata": {},
     "output_type": "execute_result"
    }
   ],
   "source": [
    "1.3 + 2.7"
   ]
  },
  {
   "cell_type": "markdown",
   "id": "32f20a58",
   "metadata": {},
   "source": [
    "### Tipos de datos en Python\n",
    "\n",
    "Un **tipo de dato** es una categoría para los valores, y **cada valor pertenece exactamente a un solo tipo de dato**. \n",
    "\n",
    "- Por ejemplo, los valores `-2` y `30` son valores enteros. El tipo de dato **entero** (o `int`) indica valores que son **números enteros**. \n",
    "- Los números con un punto decimal, como `3.14`, se llaman **números decimales** (o `float`). Nota que aunque `42` es un entero, el valor `42.0` sería un número decimal."
   ]
  },
  {
   "cell_type": "markdown",
   "id": "c3cfb153",
   "metadata": {},
   "source": [
    "## Tipos de Datos Básicos\n",
    "\n",
    "### 1. Números\n",
    "- `int`: Números enteros\n",
    "- `float`: Números decimales\n",
    "\n",
    "```python\n",
    "entero = 5 # int\n",
    "flotante = 5.7 # float\n",
    "```\n",
    "\n",
    "### 2. Texto (String)\n",
    "```python\n",
    "texto = \"Hola mundo\" # str\n",
    "```\n",
    "\n",
    "### 3. Booleanos (True o False)\n",
    "```python\n",
    "activo = True # bool\n",
    "inactivo = False # bool\n",
    "```"
   ]
  },
  {
   "cell_type": "markdown",
   "id": "5b101d4a",
   "metadata": {},
   "source": [
    "### ¿Qué tipo de datos son?\n",
    "Usamos `type()` para verlo:"
   ]
  },
  {
   "cell_type": "code",
   "execution_count": 5,
   "id": "3261c706",
   "metadata": {},
   "outputs": [
    {
     "name": "stdout",
     "output_type": "stream",
     "text": [
      "<class 'int'>\n",
      "<class 'int'>\n",
      "<class 'int'>\n",
      "<class 'float'>\n",
      "<class 'float'>\n",
      "<class 'float'>\n",
      "<class 'str'>\n",
      "<class 'str'>\n",
      "<class 'str'>\n"
     ]
    }
   ],
   "source": [
    "print(type(2))\n",
    "print(type(-1))\n",
    "print(type(0))\n",
    "print(type(-1.25))\n",
    "print(type(0.0))\n",
    "print(type(2.0))\n",
    "print(type('2.0'))\n",
    "print(type('a'))\n",
    "print(type('¡Hola!'))"
   ]
  },
  {
   "cell_type": "markdown",
   "id": "31e64e28",
   "metadata": {},
   "source": [
    "## Conversión de Tipos (Type Casting)\n",
    "\n",
    "Podemos convertir tipos usando funciones como `int()`, `float()`, `str()`."
   ]
  },
  {
   "cell_type": "code",
   "execution_count": 6,
   "id": "50700060",
   "metadata": {},
   "outputs": [
    {
     "data": {
      "text/plain": [
       "'5'"
      ]
     },
     "execution_count": 6,
     "metadata": {},
     "output_type": "execute_result"
    }
   ],
   "source": [
    "numero = 5\n",
    "numero_como_texto = str(numero)\n",
    "numero_como_texto"
   ]
  },
  {
   "cell_type": "markdown",
   "id": "6ee4e0bf",
   "metadata": {},
   "source": [
    "> **Nota**: No puedes convertir texto que no sea un número directamente a `int` o `float`."
   ]
  },
  {
   "cell_type": "code",
   "execution_count": 7,
   "id": "162070d8",
   "metadata": {},
   "outputs": [
    {
     "ename": "ValueError",
     "evalue": "invalid literal for int() with base 10: 'Hola'",
     "output_type": "error",
     "traceback": [
      "\u001b[0;31m---------------------------------------------------------------------------\u001b[0m",
      "\u001b[0;31mValueError\u001b[0m                                Traceback (most recent call last)",
      "Cell \u001b[0;32mIn[7], line 2\u001b[0m\n\u001b[1;32m      1\u001b[0m texto \u001b[38;5;241m=\u001b[39m \u001b[38;5;124m'\u001b[39m\u001b[38;5;124mHola\u001b[39m\u001b[38;5;124m'\u001b[39m\n\u001b[0;32m----> 2\u001b[0m \u001b[38;5;28mint\u001b[39m(texto)\n",
      "\u001b[0;31mValueError\u001b[0m: invalid literal for int() with base 10: 'Hola'"
     ]
    }
   ],
   "source": [
    "texto = 'Hola'\n",
    "int(texto) # ValueError"
   ]
  },
  {
   "cell_type": "code",
   "execution_count": 8,
   "id": "dc4f3dac",
   "metadata": {},
   "outputs": [
    {
     "data": {
      "text/plain": [
       "5"
      ]
     },
     "execution_count": 8,
     "metadata": {},
     "output_type": "execute_result"
    }
   ],
   "source": [
    "texto = '5'\n",
    "int(texto)"
   ]
  },
  {
   "cell_type": "code",
   "execution_count": 9,
   "id": "ef54d28f",
   "metadata": {},
   "outputs": [
    {
     "data": {
      "text/plain": [
       "10.0"
      ]
     },
     "execution_count": 9,
     "metadata": {},
     "output_type": "execute_result"
    }
   ],
   "source": [
    "# Ejemplos de type casting\n",
    "str(0)\n",
    "str(-3.14)\n",
    "int('42')\n",
    "int('-99')\n",
    "int(1.25)\n",
    "int(1.99)\n",
    "float('3.14')\n",
    "float(10)"
   ]
  },
  {
   "cell_type": "markdown",
   "id": "2a61718b",
   "metadata": {},
   "source": [
    "## Operaciones algebraicas"
   ]
  },
  {
   "cell_type": "code",
   "execution_count": 10,
   "id": "1f4122e9",
   "metadata": {},
   "outputs": [
    {
     "name": "stdout",
     "output_type": "stream",
     "text": [
      "7\n",
      "3\n",
      "10\n",
      "2.5\n",
      "2\n",
      "1\n",
      "25\n"
     ]
    }
   ],
   "source": [
    "print(5 + 2)   # suma\n",
    "print(5 - 2)   # resta\n",
    "print(5 * 2)   # multiplicación\n",
    "print(5 / 2)   # división\n",
    "print(5 // 2)  # división entera\n",
    "print(5 % 2)   # módulo (resto)\n",
    "print(5 ** 2)  # potencia"
   ]
  },
  {
   "cell_type": "markdown",
   "id": "be8b1e97",
   "metadata": {},
   "source": [
    "**Ejemplo de División Entera y Módulo:**"
   ]
  },
  {
   "cell_type": "code",
   "execution_count": 11,
   "id": "c19e15c8",
   "metadata": {},
   "outputs": [
    {
     "name": "stdout",
     "output_type": "stream",
     "text": [
      "5\n",
      "2\n"
     ]
    }
   ],
   "source": [
    "unidades = 17\n",
    "pack = 3\n",
    "print(unidades // pack)  # Unidades por pack completos\n",
    "print(unidades % pack)   # Unidades sueltas"
   ]
  },
  {
   "cell_type": "markdown",
   "id": "f4fc8e8e",
   "metadata": {},
   "source": [
    "### 🧮 **Orden de prioridad (de mayor a menor)**\n",
    "\n",
    "1. **Paréntesis** `()`  \n",
    "2. **Exponentes** `**`\n",
    "3. **Multiplicación**, **división**, **módulo** `* / %`  \n",
    "4. **Suma** y **resta** `+ -`\n"
   ]
  },
  {
   "cell_type": "code",
   "execution_count": 12,
   "id": "055d06d3",
   "metadata": {},
   "outputs": [
    {
     "data": {
      "text/plain": [
       "11"
      ]
     },
     "execution_count": 12,
     "metadata": {},
     "output_type": "execute_result"
    }
   ],
   "source": [
    "3 + 4 * 2 # ¿Qué imprime?"
   ]
  },
  {
   "cell_type": "code",
   "execution_count": 13,
   "id": "acc25a95",
   "metadata": {},
   "outputs": [
    {
     "data": {
      "text/plain": [
       "14"
      ]
     },
     "execution_count": 13,
     "metadata": {},
     "output_type": "execute_result"
    }
   ],
   "source": [
    "# Prioridad de operaciones\n",
    "(3 + 4) * 2"
   ]
  },
  {
   "cell_type": "markdown",
   "id": "f2fdf6ab",
   "metadata": {},
   "source": [
    "## ¿Qué es una variable en Python?\n",
    "\n",
    "- En Python podemos guardar datos en variables.\n",
    "- Una variable es como una \"caja\" donde guardamos un dato para usarlo más adelante."
   ]
  },
  {
   "cell_type": "code",
   "execution_count": 14,
   "id": "d39d9d11",
   "metadata": {},
   "outputs": [],
   "source": [
    "edad = 25\n",
    "altura = 1.65 # NOTA: los decimales en python se indican con \".\"\n",
    "nombre = \"María\""
   ]
  },
  {
   "cell_type": "code",
   "execution_count": 15,
   "id": "d3b005e4",
   "metadata": {},
   "outputs": [
    {
     "name": "stdout",
     "output_type": "stream",
     "text": [
      "<class 'int'>\n",
      "<class 'float'>\n",
      "<class 'str'>\n"
     ]
    }
   ],
   "source": [
    "print(type(edad))\n",
    "print(type(altura))\n",
    "print(type(nombre))"
   ]
  },
  {
   "cell_type": "markdown",
   "id": "86788ce7",
   "metadata": {},
   "source": [
    "### 🟢 Buenas prácticas al declarar variables\n",
    "\n",
    "#### ✅ Buenas prácticas:\n",
    "- Solo pueden contener letras, números y guiones bajos (_).\n",
    "- Evitar palabras reservadas de Python como `print`, `if`, `for`, etc.\n",
    "- Usa nombres claros: `edad_usuario`, `nombre_completo`\n",
    "- Usa minúsculas y guiones bajos (`snake_case`)\n",
    "- No pueden comenzar con un número.\n",
    "- No uses espacios ni acentos\n",
    "- Los nombres de las variables distinguen entre mayúsculas y minúsculas, lo que significa que spam, SPAM, Spam y sPaM son cuatro variables diferentes.\n",
    "\n",
    "#### ❌ Ejemplos malos:\n",
    "```python\n",
    "1edad = 20      # Error\n",
    "nombre completo = \"Ana\"  # Error\n",
    "print = \"Hola\"  # No hagas esto\n",
    "```"
   ]
  },
  {
   "cell_type": "markdown",
   "id": "7ae2b572",
   "metadata": {},
   "source": [
    "## Operadores Lógicos y Comparaciones\n",
    "\n",
    "- Igualdad: `==`\n",
    "- Desigualdad: `!=`\n",
    "- Mayor, menor, mayor igual, menor igual: `>`, `<`, `>=`, `<=`\n",
    "- Combinaciones lógicas: `and`, `or`"
   ]
  },
  {
   "cell_type": "markdown",
   "id": "336fedc4",
   "metadata": {},
   "source": [
    "## Operadores de comparación (también conocidas como operaciones binarias)\n",
    "Son operaciones que dan como resultado `True` o `False`.\n"
   ]
  },
  {
   "cell_type": "code",
   "execution_count": 16,
   "id": "a731fa08",
   "metadata": {},
   "outputs": [
    {
     "name": "stdout",
     "output_type": "stream",
     "text": [
      "False\n",
      "True\n",
      "True\n",
      "False\n",
      "False\n",
      "True\n",
      "True\n"
     ]
    }
   ],
   "source": [
    "a = 5\n",
    "b = 10\n",
    "\n",
    "print(a == b)   # Igual a\n",
    "print(a != b)   # Distinto de\n",
    "print(a < b)    # Menor que\n",
    "print(a > b)    # Mayor que\n",
    "print(a >= b)   # Mayor o igual que\n",
    "print(a <= b)   # Menor o igual que          \n",
    "mayor_de_edad = edad >= 18\n",
    "print(mayor_de_edad)"
   ]
  },
  {
   "cell_type": "markdown",
   "id": "b4cbd6ed",
   "metadata": {},
   "source": [
    "# 1. Comparaciones encadenadas\n",
    "\n",
    "Python permite escribir **varias comparaciones juntas**, por ejemplo:\n",
    "\n",
    "```python\n",
    "3 < 5 < 10\n",
    "```\n",
    "\n",
    "Esto **no** significa:\n",
    "- `(3 < 5) < 10`  \n",
    "(no evalúa si `True < 10`, que no tendría mucho sentido)\n",
    "\n",
    "**Significa realmente**:\n",
    "- `3 < 5 and 5 < 10`\n",
    "\n",
    "👉🏼 Es decir, **evalúa cada comparación por separado y conecta las comparaciones con `and` internamente**.\n"
   ]
  },
  {
   "cell_type": "code",
   "execution_count": 43,
   "id": "e51a4414",
   "metadata": {},
   "outputs": [
    {
     "data": {
      "text/plain": [
       "True"
      ]
     },
     "execution_count": 43,
     "metadata": {},
     "output_type": "execute_result"
    }
   ],
   "source": [
    "3 < 5 < 10"
   ]
  },
  {
   "cell_type": "markdown",
   "id": "af06f0a4",
   "metadata": {},
   "source": [
    "## Operadores lógicos"
   ]
  },
  {
   "cell_type": "code",
   "execution_count": 17,
   "id": "14f17ce8",
   "metadata": {},
   "outputs": [
    {
     "name": "stdout",
     "output_type": "stream",
     "text": [
      "False\n",
      "True\n",
      "False\n"
     ]
    }
   ],
   "source": [
    "a = True\n",
    "b = False\n",
    "\n",
    "print(a and b)    # False\n",
    "print(a or b)     # True\n",
    "print(not a)      # False"
   ]
  },
  {
   "cell_type": "markdown",
   "id": "bd3dde55",
   "metadata": {},
   "source": [
    "**tablas de verdad** de los operadores lógicos más comunes en Python:\n",
    "\n",
    "---\n",
    "\n",
    "### ✅ **1. AND (y lógico)**  \n",
    "`True and True` solo es `True` si **ambos** son `True`.\n",
    "\n",
    "| A     | B     | A and B |\n",
    "|-------|-------|---------|\n",
    "| True  | True  | True    |\n",
    "| True  | False | False   |\n",
    "| False | True  | False   |\n",
    "| False | False | False   |\n",
    "\n",
    "---\n",
    "\n",
    "### ✅ **2. OR (o lógico)**  \n",
    "`True or False` es `True` si **al menos uno** es `True`.\n",
    "\n",
    "| A     | B     | A or B  |\n",
    "|-------|-------|---------|\n",
    "| True  | True  | True    |\n",
    "| True  | False | True    |\n",
    "| False | True  | True    |\n",
    "| False | False | False   |\n",
    "\n",
    "---\n",
    "\n",
    "### ✅ **3. NOT (no lógico)**  \n",
    "Invierte el valor: si es `True`, se convierte en `False`, y viceversa.\n",
    "\n",
    "| A     | not A |\n",
    "|-------|-------|\n",
    "| True  | False |\n",
    "| False | True  |\n",
    "\n",
    "---"
   ]
  },
  {
   "cell_type": "code",
   "execution_count": 18,
   "id": "f3e59b21",
   "metadata": {},
   "outputs": [
    {
     "data": {
      "text/plain": [
       "True"
      ]
     },
     "execution_count": 18,
     "metadata": {},
     "output_type": "execute_result"
    }
   ],
   "source": [
    "(4 < 5) and (5 < 6)"
   ]
  },
  {
   "cell_type": "code",
   "execution_count": 19,
   "id": "a383c1da",
   "metadata": {},
   "outputs": [
    {
     "data": {
      "text/plain": [
       "False"
      ]
     },
     "execution_count": 19,
     "metadata": {},
     "output_type": "execute_result"
    }
   ],
   "source": [
    "(4 < 5) and (9 < 6)"
   ]
  },
  {
   "cell_type": "code",
   "execution_count": 20,
   "id": "687d56bd",
   "metadata": {},
   "outputs": [
    {
     "data": {
      "text/plain": [
       "True"
      ]
     },
     "execution_count": 20,
     "metadata": {},
     "output_type": "execute_result"
    }
   ],
   "source": [
    "(1 == 2) or (2 == 2)"
   ]
  },
  {
   "cell_type": "code",
   "execution_count": 21,
   "id": "aac3f5b7",
   "metadata": {},
   "outputs": [
    {
     "data": {
      "text/plain": [
       "True"
      ]
     },
     "execution_count": 21,
     "metadata": {},
     "output_type": "execute_result"
    }
   ],
   "source": [
    "2 + 2 == 4 and not 2 + 2 == 5 and 2 * 2 == 2 + 2"
   ]
  },
  {
   "cell_type": "markdown",
   "id": "6b340c10",
   "metadata": {},
   "source": [
    "> Los operadores lógicos tienen un orden de operaciones, igual que los operadores matemáticos. Después de evaluar cualquier operación matemática y comparación, Python evalúa primero los operadores `not`, luego los operadores `and`, y finalmente los operadores `or`.\n",
    "---"
   ]
  },
  {
   "cell_type": "markdown",
   "id": "a1cd2a73",
   "metadata": {},
   "source": [
    "- Primero, Python evalúa cualquier operación **matemática** (`+`, `-`, `*`, `/`, etc.) y **comparaciones** (`==`, `>`, `<`, etc.).\n",
    "- Después, dentro de las operaciones **lógicas**:\n",
    "  - Primero evalúa `not`\n",
    "  - Luego evalúa `and`\n",
    "  - Finalmente evalúa `or`\n",
    "\n",
    "Esto es importante porque el **orden de evaluación** puede cambiar el resultado de una condición."
   ]
  },
  {
   "cell_type": "code",
   "execution_count": 40,
   "id": "b855a4a8",
   "metadata": {},
   "outputs": [
    {
     "name": "stdout",
     "output_type": "stream",
     "text": [
      "True\n"
     ]
    }
   ],
   "source": [
    "resultado = 3 + 2 > 4 and not False or 5 < 2\n",
    "print(resultado)"
   ]
  },
  {
   "cell_type": "code",
   "execution_count": 35,
   "id": "6cfad743",
   "metadata": {},
   "outputs": [
    {
     "data": {
      "text/plain": [
       "5"
      ]
     },
     "execution_count": 35,
     "metadata": {},
     "output_type": "execute_result"
    }
   ],
   "source": [
    "# primero la matemática\n",
    "3 + 2"
   ]
  },
  {
   "cell_type": "code",
   "execution_count": 38,
   "id": "d2ede25a",
   "metadata": {},
   "outputs": [
    {
     "name": "stdout",
     "output_type": "stream",
     "text": [
      "True\n",
      "False\n"
     ]
    }
   ],
   "source": [
    "# después comparaciones (orden de prioridad: izquierda a derecha)\n",
    "print(5 > 4) \n",
    "print(5 < 2)"
   ]
  },
  {
   "cell_type": "code",
   "execution_count": 41,
   "id": "05329994",
   "metadata": {},
   "outputs": [
    {
     "data": {
      "text/plain": [
       "True"
      ]
     },
     "execution_count": 41,
     "metadata": {},
     "output_type": "execute_result"
    }
   ],
   "source": [
    "True and not False or False # primero el not False\n",
    "\n",
    "True and True or False # Después el and\n",
    "\n",
    "True or False # Por último el or"
   ]
  },
  {
   "cell_type": "markdown",
   "id": "abeffeb9",
   "metadata": {},
   "source": [
    "# ¿Qué es `+=` en Python?\n",
    "\n",
    "- `+=` es un **operador de asignación abreviado**.\n",
    "- Significa: **sumar un valor al valor que ya tiene una variable** y **guardar el resultado en la misma variable**.\n",
    "\n",
    "---\n",
    "\n",
    "# 📚 Ejemplo sencillo:\n",
    "\n",
    "```python\n",
    "x = 5\n",
    "x += 3  # Es lo mismo que: x = x + 3\n",
    "print(x)  # Resultado: 8\n",
    "```\n",
    "\n",
    "👉🏼 **Primero** suma `5 + 3`,  \n",
    "👉🏼 **luego** guarda `8` en la variable `x`."
   ]
  },
  {
   "cell_type": "markdown",
   "id": "33e71bf8",
   "metadata": {},
   "source": [
    "### Comentarios\n",
    "\n",
    "La siguiente línea se llama un comentario:\n",
    "\n",
    "➊ `# Este programa saluda y pregunta mi nombre.`\n",
    "\n",
    "Python **ignora los comentarios**, y puedes usarlos para escribir notas o recordarte qué intenta hacer el código. **Todo el texto que sigue al símbolo de numeral (`#`) en una línea forma parte del comentario.**"
   ]
  },
  {
   "cell_type": "markdown",
   "id": "5531f1b0",
   "metadata": {},
   "source": [
    "## Mostrar información con `print()`\n",
    "#### `print()` sirve para mostrar algo en pantalla."
   ]
  },
  {
   "cell_type": "code",
   "execution_count": 22,
   "id": "bbbd8276",
   "metadata": {},
   "outputs": [
    {
     "name": "stdout",
     "output_type": "stream",
     "text": [
      "¡Hola, mundo!\n"
     ]
    }
   ],
   "source": [
    "print(\"¡Hola, mundo!\")"
   ]
  },
  {
   "cell_type": "code",
   "execution_count": 23,
   "id": "46decedc",
   "metadata": {},
   "outputs": [
    {
     "name": "stdout",
     "output_type": "stream",
     "text": [
      "María\n",
      "Hola, me llamo María\n",
      "Tengo 25 años y mido 1.65 metros\n"
     ]
    }
   ],
   "source": [
    "print(nombre)\n",
    "print(\"Hola, me llamo \" + nombre)\n",
    "print(f\"Tengo {edad} años y mido {altura} metros\")"
   ]
  },
  {
   "cell_type": "markdown",
   "id": "0b073c21",
   "metadata": {},
   "source": [
    "## Capturar datos con `input()`\n",
    "#### La función `input()` sirve para pedirle algo al usuario. Espera a que el usuario escriba un texto en el teclado y presione ENTER."
   ]
  },
  {
   "cell_type": "code",
   "execution_count": 24,
   "id": "793a654f",
   "metadata": {},
   "outputs": [
    {
     "name": "stdout",
     "output_type": "stream",
     "text": [
      "Hola, Maira 😊\n"
     ]
    }
   ],
   "source": [
    "nombre = input(\"¿Cómo te llamas? \")\n",
    "print(f\"Hola, {nombre} 😊\")\n",
    "# print(\"Hola\", nombre)"
   ]
  },
  {
   "cell_type": "markdown",
   "id": "f5f58c0f",
   "metadata": {},
   "source": [
    "> `input()` siempre devuelve un `str`. Si necesitas un número, debes convertirlo con `int()` o `float()`."
   ]
  },
  {
   "cell_type": "code",
   "execution_count": 25,
   "id": "6ba2496a",
   "metadata": {},
   "outputs": [
    {
     "data": {
      "text/plain": [
       "str"
      ]
     },
     "execution_count": 25,
     "metadata": {},
     "output_type": "execute_result"
    }
   ],
   "source": [
    "type(nombre)"
   ]
  },
  {
   "cell_type": "code",
   "execution_count": 26,
   "id": "0c1c1754",
   "metadata": {},
   "outputs": [
    {
     "name": "stdout",
     "output_type": "stream",
     "text": [
      "El año que viene tendrás 43 años.\n"
     ]
    }
   ],
   "source": [
    "edad = int(input(\"¿Qué edad tienes? \"))\n",
    "print(f\"El año que viene tendrás {edad + 1} años.\")"
   ]
  },
  {
   "cell_type": "markdown",
   "id": "66521f55",
   "metadata": {},
   "source": [
    "#### ⚙️ Actividad:\n",
    "- Crear un programa que sume dos números pedidos con `input()` (usar `int()` para convertir):"
   ]
  },
  {
   "cell_type": "code",
   "execution_count": 27,
   "id": "1fefe989",
   "metadata": {},
   "outputs": [
    {
     "name": "stdout",
     "output_type": "stream",
     "text": [
      "La suma es: 5\n"
     ]
    }
   ],
   "source": [
    "n1 = int(input(\"Dame un número: \"))\n",
    "n2 = int(input(\"Dame otro número: \"))\n",
    "print(\"La suma es:\", n1 + n2)"
   ]
  },
  {
   "cell_type": "code",
   "execution_count": 28,
   "id": "1e52a9b5",
   "metadata": {},
   "outputs": [
    {
     "name": "stdout",
     "output_type": "stream",
     "text": [
      "¿Eres mayor de edad? True\n"
     ]
    }
   ],
   "source": [
    "edad = int(input(\"¿Cuántos años tienes? \"))\n",
    "print(\"¿Eres mayor de edad?\", edad >= 18)"
   ]
  },
  {
   "cell_type": "markdown",
   "id": "f83d5271",
   "metadata": {},
   "source": [
    "### Concatenación de strings\n"
   ]
  },
  {
   "cell_type": "code",
   "execution_count": 29,
   "id": "70ca95d9",
   "metadata": {},
   "outputs": [
    {
     "name": "stdout",
     "output_type": "stream",
     "text": [
      "Ada Lovelace\n"
     ]
    }
   ],
   "source": [
    "nombre = \"Ada\"\n",
    "apellido = \"Lovelace\"\n",
    "print(nombre + \" \" + apellido)"
   ]
  },
  {
   "cell_type": "markdown",
   "id": "0e017993",
   "metadata": {},
   "source": [
    "## Métodos de strings\n",
    "\n",
    "Un **método** es como una **acción especial** que puede hacer un tipo de dato. \n",
    "Por ejemplo, **los textos (strings)** tienen acciones que pueden hacer sobre sí mismos, como ponerse en mayúscula, eliminar espacios, buscar palabras, etc.\n",
    "\n",
    "> 📌 Un método **se llama con un punto `.`** después de una variable, como así:  \n",
    "> `texto.upper()` → esto le dice a Python: “pon este texto en mayúsculas”.\n",
    "\n",
    "---\n",
    "\n",
    "### 🧴 Analogía:\n",
    "\n",
    "Imagina que tienes una **botella de agua**. Esa botella puede hacer cosas como:\n",
    "\n",
    "- **Abrirse** → `botella.abrir()`\n",
    "- **Llenarse** → `botella.llenar()`\n",
    "- **Vaciarse** → `botella.vaciar()`\n",
    "\n",
    "Así como la botella tiene **acciones que puede hacer**, los textos en Python también tienen acciones.\n",
    "\n",
    "---\n",
    "\n",
    "### 📍 Importante:\n",
    "- Los métodos **van después del dato**, con un punto (`.`).\n",
    "- Algunos necesitan **paréntesis vacíos `()`**, otros pueden tener algo dentro (como `.replace(\"a\", \"b\")`).\n",
    "- ¡Los métodos son como comandos que le pides a ese dato!"
   ]
  },
  {
   "cell_type": "markdown",
   "id": "fdb24ced",
   "metadata": {},
   "source": [
    "### Métodos comunes para Strings\n",
    "\n",
    "- `upper()`: Todo en mayúsculas\n",
    "- `lower()`: Todo en minúsculas\n",
    "- `capitalize()`: Solo la primera letra en mayúscula\n",
    "- `title()`: Primera letra de cada palabra en mayúscula\n",
    "- `swapcase()`: Invierte mayúsculas y minúsculas\n",
    "- `strip()`: Quita espacios en blanco al inicio y final\n",
    "- `split()`: Divide el texto en lista\n",
    "- `replace()`: Reemplaza un texto por otro\n",
    "- `join()`: Une elementos de una lista en un string\n",
    "- `find()`: Encuentra la posición de un substring"
   ]
  },
  {
   "cell_type": "code",
   "execution_count": 30,
   "id": "0dae8d1e",
   "metadata": {},
   "outputs": [
    {
     "name": "stdout",
     "output_type": "stream",
     "text": [
      "  HOLA MUNDO  \n",
      "  hola mundo  \n",
      "  hola mundo  \n",
      "  Hola Mundo  \n",
      "  HOLA MUNDO  \n",
      "hola mundo\n",
      "['hola', 'mundo']\n",
      "  hola Python  \n",
      "hola-mundo\n",
      "7\n"
     ]
    }
   ],
   "source": [
    "texto = \"  hola mundo  \"\n",
    "\n",
    "print(texto.upper())      # \"  HOLA MUNDO  \"\n",
    "print(texto.lower())      # \"  hola mundo  \"\n",
    "print(texto.capitalize()) # \"  hola mundo  \" → \"  Hola mundo  \"\n",
    "print(texto.title())      # \"  Hola Mundo  \"\n",
    "print(texto.swapcase())   # \"  HOLA MUNDO  \"\n",
    "print(texto.strip())      # \"hola mundo\"\n",
    "print(texto.split())      # ['hola', 'mundo']\n",
    "print(texto.replace(\"mundo\", \"Python\"))  # \"  hola Python  \"\n",
    "print(\"-\".join([\"hola\", \"mundo\"]))       # \"hola-mundo\"\n",
    "print(texto.find(\"mundo\"))               # posición donde aparece \"mundo\"\n"
   ]
  },
  {
   "cell_type": "markdown",
   "id": "50d629f3",
   "metadata": {},
   "source": [
    "## Errores comunes\n",
    "\n",
    "No puedes aplicar métodos de texto a números directamente:\n",
    "\n",
    "```python\n",
    "numero = 5\n",
    "numero.upper()  # Esto da error\n",
    "```\n",
    "\n",
    "Siempre revisa el tipo de tu variable antes de aplicar métodos."
   ]
  },
  {
   "cell_type": "markdown",
   "id": "dd67945a",
   "metadata": {},
   "source": [
    "## La función `len()`\n",
    "#### Puedes pasarle a la función `len()` un valor de tipo cadena (o una variable que contenga una cadena), y la función devolverá un valor entero que representa la **cantidad de caracteres** que tiene esa cadena."
   ]
  },
  {
   "cell_type": "code",
   "execution_count": 31,
   "id": "e573e111",
   "metadata": {},
   "outputs": [
    {
     "data": {
      "text/plain": [
       "6"
      ]
     },
     "execution_count": 31,
     "metadata": {},
     "output_type": "execute_result"
    }
   ],
   "source": [
    "len('cadena')"
   ]
  },
  {
   "cell_type": "code",
   "execution_count": 32,
   "id": "bcdb9dde",
   "metadata": {},
   "outputs": [
    {
     "data": {
      "text/plain": [
       "14"
      ]
     },
     "execution_count": 32,
     "metadata": {},
     "output_type": "execute_result"
    }
   ],
   "source": [
    "len('Hola, qué tal?')"
   ]
  },
  {
   "cell_type": "code",
   "execution_count": 33,
   "id": "81ab0974",
   "metadata": {},
   "outputs": [
    {
     "data": {
      "text/plain": [
       "0"
      ]
     },
     "execution_count": 33,
     "metadata": {},
     "output_type": "execute_result"
    }
   ],
   "source": [
    "len('')"
   ]
  },
  {
   "cell_type": "markdown",
   "id": "6a054345",
   "metadata": {},
   "source": [
    "### Redondeo con `round()`"
   ]
  },
  {
   "cell_type": "code",
   "execution_count": 34,
   "id": "06dfcde1",
   "metadata": {},
   "outputs": [
    {
     "name": "stdout",
     "output_type": "stream",
     "text": [
      "7.46\n"
     ]
    }
   ],
   "source": [
    "precio = 7.456\n",
    "print(round(precio, 2))"
   ]
  },
  {
   "cell_type": "markdown",
   "id": "2e43c59e",
   "metadata": {},
   "source": [
    "🧩 **Tu reto:**\n",
    "\n",
    "1. Pide al usuario su nombre y edad.\n",
    "2. Calcula cuántos años tendrá en 10 años.\n",
    "3. Muestra un mensaje personalizado utilizando métodos de string."
   ]
  },
  {
   "cell_type": "code",
   "execution_count": 42,
   "id": "cd1c14a0",
   "metadata": {},
   "outputs": [
    {
     "name": "stdout",
     "output_type": "stream",
     "text": [
      "Hola Ana, en 10 años tendrás 42 años.\n"
     ]
    }
   ],
   "source": [
    "nombre = input('Dime tu nombre: ')\n",
    "edad = int(input('Dime tu edad: '))\n",
    "print(f'Hola {nombre}, en 10 años tendrás {edad + 10} años.')"
   ]
  }
 ],
 "metadata": {
  "kernelspec": {
   "display_name": "base",
   "language": "python",
   "name": "python3"
  },
  "language_info": {
   "codemirror_mode": {
    "name": "ipython",
    "version": 3
   },
   "file_extension": ".py",
   "mimetype": "text/x-python",
   "name": "python",
   "nbconvert_exporter": "python",
   "pygments_lexer": "ipython3",
   "version": "3.11.9"
  }
 },
 "nbformat": 4,
 "nbformat_minor": 5
}
