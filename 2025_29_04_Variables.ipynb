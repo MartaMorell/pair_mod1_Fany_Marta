{
 "cells": [
  {
   "cell_type": "code",
   "execution_count": 1,
   "id": "ff0c2b7d",
   "metadata": {},
   "outputs": [],
   "source": [
    "gatos = 8"
   ]
  },
  {
   "cell_type": "code",
   "execution_count": 2,
   "id": "a07da3d1",
   "metadata": {},
   "outputs": [
    {
     "name": "stdout",
     "output_type": "stream",
     "text": [
      "8\n"
     ]
    }
   ],
   "source": [
    "print(gatos)"
   ]
  },
  {
   "cell_type": "code",
   "execution_count": 3,
   "id": "ea4d121d",
   "metadata": {},
   "outputs": [
    {
     "name": "stdout",
     "output_type": "stream",
     "text": [
      "cuatro\n"
     ]
    }
   ],
   "source": [
    "perros = \"cuatro\"\n",
    "print(perros)"
   ]
  },
  {
   "cell_type": "code",
   "execution_count": 21,
   "id": "c55c5f43",
   "metadata": {},
   "outputs": [
    {
     "ename": "SyntaxError",
     "evalue": "invalid syntax. Perhaps you forgot a comma? (3210072435.py, line 1)",
     "output_type": "error",
     "traceback": [
      "  \u001b[36mCell\u001b[39m\u001b[36m \u001b[39m\u001b[32mIn[21]\u001b[39m\u001b[32m, line 1\u001b[39m\n\u001b[31m    \u001b[39m\u001b[31mprint(perros más perros)\u001b[39m\n          ^\n\u001b[31mSyntaxError\u001b[39m\u001b[31m:\u001b[39m invalid syntax. Perhaps you forgot a comma?\n"
     ]
    }
   ],
   "source": [
    "print(perros más perros)"
   ]
  },
  {
   "cell_type": "code",
   "execution_count": 5,
   "id": "12ae6e45",
   "metadata": {},
   "outputs": [
    {
     "name": "stdout",
     "output_type": "stream",
     "text": [
      "perros:cuatro más cuatro es igual a 8\n"
     ]
    }
   ],
   "source": [
    "print( \"perros:\" \"cuatro más cuatro es igual a 8\")\n"
   ]
  },
  {
   "cell_type": "code",
   "execution_count": 6,
   "id": "dd00e34f",
   "metadata": {},
   "outputs": [
    {
     "name": "stdout",
     "output_type": "stream",
     "text": [
      "perros:  cuatro más cuatro es igual a 8\n"
     ]
    }
   ],
   "source": [
    "print( \"perros:  cuatro más cuatro es igual a 8\")"
   ]
  },
  {
   "cell_type": "code",
   "execution_count": 11,
   "id": "de9b5d90",
   "metadata": {},
   "outputs": [
    {
     "ename": "SyntaxError",
     "evalue": "invalid syntax (707507130.py, line 1)",
     "output_type": "error",
     "traceback": [
      "  \u001b[36mCell\u001b[39m\u001b[36m \u001b[39m\u001b[32mIn[11]\u001b[39m\u001b[32m, line 1\u001b[39m\n\u001b[31m    \u001b[39m\u001b[31mprint(perros: (perros  + perros) \"es igual a 8\")\u001b[39m\n                ^\n\u001b[31mSyntaxError\u001b[39m\u001b[31m:\u001b[39m invalid syntax\n"
     ]
    }
   ],
   "source": [
    "print(perros: (perros  + perros) \"es igual a 8\")"
   ]
  },
  {
   "cell_type": "code",
   "execution_count": 12,
   "id": "f3d1a00f",
   "metadata": {},
   "outputs": [
    {
     "name": "stdout",
     "output_type": "stream",
     "text": [
      "cuatro\n"
     ]
    }
   ],
   "source": [
    "print(perros)"
   ]
  },
  {
   "cell_type": "code",
   "execution_count": 13,
   "id": "8e539b2e",
   "metadata": {},
   "outputs": [
    {
     "ename": "SyntaxError",
     "evalue": "invalid syntax (4035693046.py, line 1)",
     "output_type": "error",
     "traceback": [
      "  \u001b[36mCell\u001b[39m\u001b[36m \u001b[39m\u001b[32mIn[13]\u001b[39m\u001b[32m, line 1\u001b[39m\n\u001b[31m    \u001b[39m\u001b[31mperros: print( perros  +  perros) es igual a 8\u001b[39m\n                                      ^\n\u001b[31mSyntaxError\u001b[39m\u001b[31m:\u001b[39m invalid syntax\n"
     ]
    }
   ],
   "source": [
    "perros: print( perros  +  perros) es igual a 8"
   ]
  },
  {
   "cell_type": "code",
   "execution_count": 26,
   "id": "381147d9",
   "metadata": {},
   "outputs": [
    {
     "name": "stdout",
     "output_type": "stream",
     "text": [
      "cuatro más cuatro\n"
     ]
    }
   ],
   "source": [
    "print(perros, \"más\", perros)"
   ]
  },
  {
   "cell_type": "code",
   "execution_count": 27,
   "id": "13c139ee",
   "metadata": {},
   "outputs": [
    {
     "name": "stdout",
     "output_type": "stream",
     "text": [
      "cuatro más cuatro es igual a 8\n"
     ]
    }
   ],
   "source": [
    "print(perros, \"más\", perros, \"es igual a 8\")"
   ]
  },
  {
   "cell_type": "code",
   "execution_count": 28,
   "id": "96b527f6",
   "metadata": {},
   "outputs": [
    {
     "name": "stdout",
     "output_type": "stream",
     "text": [
      "cuatro más cuatro es = 8\n"
     ]
    }
   ],
   "source": [
    "print(perros, \"más\", perros, \"es = 8\")"
   ]
  },
  {
   "cell_type": "code",
   "execution_count": 31,
   "id": "4779fbed",
   "metadata": {},
   "outputs": [
    {
     "name": "stdout",
     "output_type": "stream",
     "text": [
      "cuatro más cuatro es = 8\n"
     ]
    }
   ],
   "source": [
    "print(perros, \"más\", perros, \"es =\", gatos)"
   ]
  },
  {
   "cell_type": "code",
   "execution_count": 32,
   "id": "61674599",
   "metadata": {},
   "outputs": [],
   "source": [
    "pizzas = 2.0"
   ]
  },
  {
   "cell_type": "code",
   "execution_count": 34,
   "id": "77e081da",
   "metadata": {},
   "outputs": [
    {
     "data": {
      "text/plain": [
       "float"
      ]
     },
     "execution_count": 34,
     "metadata": {},
     "output_type": "execute_result"
    }
   ],
   "source": [
    "type(pizzas)"
   ]
  },
  {
   "cell_type": "code",
   "execution_count": 35,
   "id": "9fac7b8c",
   "metadata": {},
   "outputs": [],
   "source": [
    "magdalenas = \"2\""
   ]
  },
  {
   "cell_type": "code",
   "execution_count": 36,
   "id": "207e6bf2",
   "metadata": {},
   "outputs": [
    {
     "data": {
      "text/plain": [
       "str"
      ]
     },
     "execution_count": 36,
     "metadata": {},
     "output_type": "execute_result"
    }
   ],
   "source": [
    "type(magdalenas)"
   ]
  },
  {
   "cell_type": "code",
   "execution_count": 37,
   "id": "d0df04a5",
   "metadata": {},
   "outputs": [],
   "source": [
    "postres = 0\n"
   ]
  },
  {
   "cell_type": "code",
   "execution_count": 38,
   "id": "614fb84b",
   "metadata": {},
   "outputs": [
    {
     "name": "stdout",
     "output_type": "stream",
     "text": [
      "10.0\n"
     ]
    }
   ],
   "source": [
    "print(gatos + pizzas)"
   ]
  },
  {
   "cell_type": "code",
   "execution_count": 39,
   "id": "f1b30ff1",
   "metadata": {},
   "outputs": [
    {
     "name": "stdout",
     "output_type": "stream",
     "text": [
      "6.0\n"
     ]
    }
   ],
   "source": [
    "print(gatos - pizzas)"
   ]
  },
  {
   "cell_type": "code",
   "execution_count": 40,
   "id": "0dddab2b",
   "metadata": {},
   "outputs": [
    {
     "name": "stdout",
     "output_type": "stream",
     "text": [
      "16\n"
     ]
    }
   ],
   "source": [
    "print( gatos * 2)"
   ]
  },
  {
   "cell_type": "code",
   "execution_count": 41,
   "id": "6f806d67",
   "metadata": {},
   "outputs": [],
   "source": [
    "piezas = pizzas * 8"
   ]
  },
  {
   "cell_type": "code",
   "execution_count": 42,
   "id": "2912a64f",
   "metadata": {},
   "outputs": [
    {
     "name": "stdout",
     "output_type": "stream",
     "text": [
      "16.0\n"
     ]
    }
   ],
   "source": [
    "print( piezas)"
   ]
  },
  {
   "cell_type": "code",
   "execution_count": 2,
   "id": "12fa2cb2",
   "metadata": {},
   "outputs": [
    {
     "ename": "NameError",
     "evalue": "name 'piezas' is not defined",
     "output_type": "error",
     "traceback": [
      "\u001b[31m---------------------------------------------------------------------------\u001b[39m",
      "\u001b[31mNameError\u001b[39m                                 Traceback (most recent call last)",
      "\u001b[36mCell\u001b[39m\u001b[36m \u001b[39m\u001b[32mIn[2]\u001b[39m\u001b[32m, line 1\u001b[39m\n\u001b[32m----> \u001b[39m\u001b[32m1\u001b[39m \u001b[43mpiezas\u001b[49m += \u001b[32m3\u001b[39m\n",
      "\u001b[31mNameError\u001b[39m: name 'piezas' is not defined"
     ]
    }
   ],
   "source": [
    "piezas += 3"
   ]
  },
  {
   "cell_type": "code",
   "execution_count": 43,
   "id": "a4629acd",
   "metadata": {},
   "outputs": [
    {
     "name": "stdout",
     "output_type": "stream",
     "text": [
      "48.0\n"
     ]
    }
   ],
   "source": [
    "print( piezas * 3)"
   ]
  },
  {
   "cell_type": "code",
   "execution_count": 7,
   "id": "628c9a86",
   "metadata": {},
   "outputs": [
    {
     "data": {
      "text/plain": [
       "int"
      ]
     },
     "execution_count": 7,
     "metadata": {},
     "output_type": "execute_result"
    }
   ],
   "source": [
    "superficie = 9**2\n",
    "type(superficie)"
   ]
  },
  {
   "cell_type": "code",
   "execution_count": null,
   "id": "e51be56f",
   "metadata": {},
   "outputs": [],
   "source": []
  },
  {
   "cell_type": "code",
   "execution_count": null,
   "id": "f069190b",
   "metadata": {},
   "outputs": [
    {
     "name": "stdout",
     "output_type": "stream",
     "text": [
      "81\n"
     ]
    }
   ],
   "source": [
    "print(superficie)"
   ]
  },
  {
   "cell_type": "code",
   "execution_count": 46,
   "id": "597ed5f0",
   "metadata": {},
   "outputs": [
    {
     "name": "stdout",
     "output_type": "stream",
     "text": [
      "10.125\n"
     ]
    }
   ],
   "source": [
    "print(superficie/gatos)\n"
   ]
  },
  {
   "cell_type": "code",
   "execution_count": 47,
   "id": "4f821dfe",
   "metadata": {},
   "outputs": [
    {
     "name": "stdout",
     "output_type": "stream",
     "text": [
      "2.0\n"
     ]
    }
   ],
   "source": [
    "print(piezas//gatos)"
   ]
  },
  {
   "cell_type": "code",
   "execution_count": 48,
   "id": "66f8a65b",
   "metadata": {},
   "outputs": [
    {
     "name": "stdout",
     "output_type": "stream",
     "text": [
      "8\n"
     ]
    }
   ],
   "source": [
    "print(gatos%21)"
   ]
  },
  {
   "cell_type": "code",
   "execution_count": 49,
   "id": "18e2d00d",
   "metadata": {},
   "outputs": [
    {
     "name": "stdout",
     "output_type": "stream",
     "text": [
      "16.0\n"
     ]
    }
   ],
   "source": [
    "print( piezas)"
   ]
  },
  {
   "cell_type": "code",
   "execution_count": 51,
   "id": "5475a30a",
   "metadata": {},
   "outputs": [
    {
     "name": "stdout",
     "output_type": "stream",
     "text": [
      "48.0\n"
     ]
    }
   ],
   "source": [
    "piezas1 = piezas * 3\n",
    "print(piezas1) "
   ]
  },
  {
   "cell_type": "code",
   "execution_count": 6,
   "id": "ed3a85b0",
   "metadata": {},
   "outputs": [
    {
     "ename": "NameError",
     "evalue": "name 'superficie' is not defined",
     "output_type": "error",
     "traceback": [
      "\u001b[31m---------------------------------------------------------------------------\u001b[39m",
      "\u001b[31mNameError\u001b[39m                                 Traceback (most recent call last)",
      "\u001b[36mCell\u001b[39m\u001b[36m \u001b[39m\u001b[32mIn[6]\u001b[39m\u001b[32m, line 1\u001b[39m\n\u001b[32m----> \u001b[39m\u001b[32m1\u001b[39m \u001b[38;5;28mtype\u001b[39m(\u001b[43msuperficie\u001b[49m)\n",
      "\u001b[31mNameError\u001b[39m: name 'superficie' is not defined"
     ]
    }
   ],
   "source": [
    "type(superficie)"
   ]
  },
  {
   "cell_type": "code",
   "execution_count": 8,
   "id": "62347353",
   "metadata": {},
   "outputs": [
    {
     "data": {
      "text/plain": [
       "int"
      ]
     },
     "execution_count": 8,
     "metadata": {},
     "output_type": "execute_result"
    }
   ],
   "source": [
    "type(superficie)"
   ]
  },
  {
   "cell_type": "code",
   "execution_count": 10,
   "id": "43c838a8",
   "metadata": {},
   "outputs": [
    {
     "name": "stdout",
     "output_type": "stream",
     "text": [
      "15122538465.7\n"
     ]
    }
   ],
   "source": [
    "print(round(10.125**10.125,1))"
   ]
  },
  {
   "cell_type": "code",
   "execution_count": 11,
   "id": "8d199c66",
   "metadata": {},
   "outputs": [
    {
     "ename": "NameError",
     "evalue": "name 'gatos' is not defined",
     "output_type": "error",
     "traceback": [
      "\u001b[31m---------------------------------------------------------------------------\u001b[39m",
      "\u001b[31mNameError\u001b[39m                                 Traceback (most recent call last)",
      "\u001b[36mCell\u001b[39m\u001b[36m \u001b[39m\u001b[32mIn[11]\u001b[39m\u001b[32m, line 1\u001b[39m\n\u001b[32m----> \u001b[39m\u001b[32m1\u001b[39m \u001b[38;5;28mprint\u001b[39m( \u001b[43mgatos\u001b[49m > pizzas, \u001b[33m\"\u001b[39m\u001b[33mes True\u001b[39m\u001b[33m\"\u001b[39m )\n",
      "\u001b[31mNameError\u001b[39m: name 'gatos' is not defined"
     ]
    }
   ],
   "source": [
    "print( gatos > pizzas, \"es True\" )"
   ]
  },
  {
   "cell_type": "code",
   "execution_count": 12,
   "id": "4c08e5c8",
   "metadata": {},
   "outputs": [],
   "source": [
    "gatos = 8"
   ]
  },
  {
   "cell_type": "code",
   "execution_count": 13,
   "id": "c9c8afb5",
   "metadata": {},
   "outputs": [
    {
     "ename": "NameError",
     "evalue": "name 'pizzas' is not defined",
     "output_type": "error",
     "traceback": [
      "\u001b[31m---------------------------------------------------------------------------\u001b[39m",
      "\u001b[31mNameError\u001b[39m                                 Traceback (most recent call last)",
      "\u001b[36mCell\u001b[39m\u001b[36m \u001b[39m\u001b[32mIn[13]\u001b[39m\u001b[32m, line 1\u001b[39m\n\u001b[32m----> \u001b[39m\u001b[32m1\u001b[39m \u001b[38;5;28mprint\u001b[39m( gatos > \u001b[43mpizzas\u001b[49m, \u001b[33m\"\u001b[39m\u001b[33mes True\u001b[39m\u001b[33m\"\u001b[39m)\n",
      "\u001b[31mNameError\u001b[39m: name 'pizzas' is not defined"
     ]
    }
   ],
   "source": [
    "print( gatos > pizzas, \"es True\")"
   ]
  },
  {
   "cell_type": "code",
   "execution_count": 14,
   "id": "2b8d67e0",
   "metadata": {},
   "outputs": [],
   "source": [
    "pizzas = 2.0\n"
   ]
  },
  {
   "cell_type": "code",
   "execution_count": 15,
   "id": "12e51ab9",
   "metadata": {},
   "outputs": [
    {
     "name": "stdout",
     "output_type": "stream",
     "text": [
      "True es True\n"
     ]
    }
   ],
   "source": [
    "print (gatos > pizzas, \"es True\")"
   ]
  },
  {
   "cell_type": "code",
   "execution_count": 16,
   "id": "1bcdbc79",
   "metadata": {},
   "outputs": [
    {
     "name": "stdout",
     "output_type": "stream",
     "text": [
      "True es True\n"
     ]
    }
   ],
   "source": [
    "print( gatos < superficie, \"es True\")"
   ]
  },
  {
   "cell_type": "code",
   "execution_count": 17,
   "id": "e4e5ec8a",
   "metadata": {},
   "outputs": [
    {
     "name": "stdout",
     "output_type": "stream",
     "text": [
      "True es True\n"
     ]
    }
   ],
   "source": [
    "print (pizzas * 2 != gatos, \"es True\")"
   ]
  },
  {
   "cell_type": "code",
   "execution_count": 19,
   "id": "4fa1a392",
   "metadata": {},
   "outputs": [
    {
     "name": "stdout",
     "output_type": "stream",
     "text": [
      "False es False\n"
     ]
    }
   ],
   "source": [
    "print(pizzas * 2 == gatos, \"es False\")"
   ]
  },
  {
   "cell_type": "code",
   "execution_count": 20,
   "id": "97cf6e18",
   "metadata": {},
   "outputs": [
    {
     "ename": "NameError",
     "evalue": "name 'piezas' is not defined",
     "output_type": "error",
     "traceback": [
      "\u001b[31m---------------------------------------------------------------------------\u001b[39m",
      "\u001b[31mNameError\u001b[39m                                 Traceback (most recent call last)",
      "\u001b[36mCell\u001b[39m\u001b[36m \u001b[39m\u001b[32mIn[20]\u001b[39m\u001b[32m, line 1\u001b[39m\n\u001b[32m----> \u001b[39m\u001b[32m1\u001b[39m \u001b[38;5;28mprint\u001b[39m( \u001b[43mpiezas\u001b[49m)\n",
      "\u001b[31mNameError\u001b[39m: name 'piezas' is not defined"
     ]
    }
   ],
   "source": [
    "print( piezas)"
   ]
  },
  {
   "cell_type": "code",
   "execution_count": 21,
   "id": "d0a76fbc",
   "metadata": {},
   "outputs": [],
   "source": [
    "piezas = pizzas * 8"
   ]
  },
  {
   "cell_type": "code",
   "execution_count": 25,
   "id": "3724ffcb",
   "metadata": {},
   "outputs": [
    {
     "name": "stdout",
     "output_type": "stream",
     "text": [
      "16.0\n"
     ]
    }
   ],
   "source": [
    "print(piezas)"
   ]
  },
  {
   "cell_type": "code",
   "execution_count": 23,
   "id": "6592b46a",
   "metadata": {},
   "outputs": [
    {
     "name": "stdout",
     "output_type": "stream",
     "text": [
      "True\n"
     ]
    }
   ],
   "source": [
    "print(piezas >= pizzas and superficie != 0)"
   ]
  },
  {
   "cell_type": "code",
   "execution_count": 24,
   "id": "51c3fcca",
   "metadata": {},
   "outputs": [
    {
     "name": "stdout",
     "output_type": "stream",
     "text": [
      "True\n"
     ]
    }
   ],
   "source": [
    "print( piezas >= pizzas and piezas < superficie)"
   ]
  },
  {
   "cell_type": "code",
   "execution_count": 27,
   "id": "20777066",
   "metadata": {},
   "outputs": [
    {
     "name": "stdout",
     "output_type": "stream",
     "text": [
      "True\n"
     ]
    }
   ],
   "source": [
    "print(pizzas > gatos or piezas%gatos == 0)"
   ]
  },
  {
   "cell_type": "code",
   "execution_count": 28,
   "id": "6850cfc9",
   "metadata": {},
   "outputs": [
    {
     "name": "stdout",
     "output_type": "stream",
     "text": [
      "True\n"
     ]
    },
    {
     "name": "stderr",
     "output_type": "stream",
     "text": [
      "<>:1: SyntaxWarning: \"is not\" with 'int' literal. Did you mean \"!=\"?\n",
      "<>:1: SyntaxWarning: \"is not\" with 'int' literal. Did you mean \"!=\"?\n",
      "C:\\Users\\PC\\AppData\\Local\\Temp\\ipykernel_17788\\1897550877.py:1: SyntaxWarning: \"is not\" with 'int' literal. Did you mean \"!=\"?\n",
      "  print( superficie is not 0)\n"
     ]
    }
   ],
   "source": [
    "print( superficie is not 0)"
   ]
  },
  {
   "cell_type": "code",
   "execution_count": 30,
   "id": "7fe4c372",
   "metadata": {},
   "outputs": [
    {
     "name": "stdout",
     "output_type": "stream",
     "text": [
      "False\n"
     ]
    }
   ],
   "source": [
    "print( superficie == 0)"
   ]
  },
  {
   "cell_type": "code",
   "execution_count": null,
   "id": "048ae345",
   "metadata": {},
   "outputs": [],
   "source": [
    "dia_cumple = input(\"Día de tu cumpleaños\")\n"
   ]
  },
  {
   "cell_type": "code",
   "execution_count": 35,
   "id": "3494d7a0",
   "metadata": {},
   "outputs": [
    {
     "name": "stdout",
     "output_type": "stream",
     "text": [
      "06/10/1978\n"
     ]
    }
   ],
   "source": [
    "print(dia_cumple)"
   ]
  },
  {
   "cell_type": "code",
   "execution_count": 40,
   "id": "b18330a4",
   "metadata": {},
   "outputs": [
    {
     "name": "stdout",
     "output_type": "stream",
     "text": [
      "octubre\n"
     ]
    }
   ],
   "source": [
    "mes_cumple = input(\"¿En qué mes naciste?\")\n",
    "print(mes_cumple)"
   ]
  },
  {
   "cell_type": "code",
   "execution_count": 41,
   "id": "07b76592",
   "metadata": {},
   "outputs": [
    {
     "name": "stdout",
     "output_type": "stream",
     "text": [
      "octubre\n"
     ]
    }
   ],
   "source": [
    "print(mes_cumple)"
   ]
  },
  {
   "cell_type": "code",
   "execution_count": 42,
   "id": "79050887",
   "metadata": {},
   "outputs": [
    {
     "name": "stdout",
     "output_type": "stream",
     "text": [
      "06/10/1978\n"
     ]
    }
   ],
   "source": [
    "print(dia_cumple.strip())"
   ]
  },
  {
   "cell_type": "code",
   "execution_count": 44,
   "id": "77182b45",
   "metadata": {},
   "outputs": [
    {
     "name": "stdout",
     "output_type": "stream",
     "text": [
      "octubre\n"
     ]
    }
   ],
   "source": [
    "print(mes_cumple.strip())"
   ]
  },
  {
   "cell_type": "code",
   "execution_count": 45,
   "id": "f47a8ccc",
   "metadata": {},
   "outputs": [],
   "source": [
    "fecha_cumple = \"06 de Octubre\""
   ]
  },
  {
   "cell_type": "code",
   "execution_count": 46,
   "id": "f3f86dda",
   "metadata": {},
   "outputs": [
    {
     "name": "stdout",
     "output_type": "stream",
     "text": [
      "06 de Octubre\n"
     ]
    }
   ],
   "source": [
    "print(fecha_cumple)"
   ]
  },
  {
   "cell_type": "code",
   "execution_count": 48,
   "id": "69a41803",
   "metadata": {},
   "outputs": [
    {
     "name": "stdout",
     "output_type": "stream",
     "text": [
      "Fecha de cumpleaños es el 06 de Octubre\n"
     ]
    }
   ],
   "source": [
    "print( \"Fecha de cumpleaños es el\", fecha_cumple)"
   ]
  },
  {
   "cell_type": "code",
   "execution_count": 49,
   "id": "b4f8ed3e",
   "metadata": {},
   "outputs": [
    {
     "ename": "NameError",
     "evalue": "name 'perros' is not defined",
     "output_type": "error",
     "traceback": [
      "\u001b[31m---------------------------------------------------------------------------\u001b[39m",
      "\u001b[31mNameError\u001b[39m                                 Traceback (most recent call last)",
      "\u001b[36mCell\u001b[39m\u001b[36m \u001b[39m\u001b[32mIn[49]\u001b[39m\u001b[32m, line 1\u001b[39m\n\u001b[32m----> \u001b[39m\u001b[32m1\u001b[39m \u001b[38;5;28mprint\u001b[39m(\u001b[43mperros\u001b[49m.upper())\n",
      "\u001b[31mNameError\u001b[39m: name 'perros' is not defined"
     ]
    }
   ],
   "source": [
    "print(perros.upper())"
   ]
  },
  {
   "cell_type": "code",
   "execution_count": 51,
   "id": "47020240",
   "metadata": {},
   "outputs": [],
   "source": [
    "perros = \"cuatro\""
   ]
  },
  {
   "cell_type": "code",
   "execution_count": 52,
   "id": "7ba49ada",
   "metadata": {},
   "outputs": [
    {
     "name": "stdout",
     "output_type": "stream",
     "text": [
      "CUATRO\n"
     ]
    }
   ],
   "source": [
    "print(perros.upper())"
   ]
  }
 ],
 "metadata": {
  "kernelspec": {
   "display_name": "Python 3",
   "language": "python",
   "name": "python3"
  },
  "language_info": {
   "codemirror_mode": {
    "name": "ipython",
    "version": 3
   },
   "file_extension": ".py",
   "mimetype": "text/x-python",
   "name": "python",
   "nbconvert_exporter": "python",
   "pygments_lexer": "ipython3",
   "version": "3.13.3"
  }
 },
 "nbformat": 4,
 "nbformat_minor": 5
}
