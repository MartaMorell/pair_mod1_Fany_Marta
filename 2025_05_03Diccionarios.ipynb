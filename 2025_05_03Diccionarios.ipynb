{
 "cells": [
  {
   "cell_type": "code",
   "execution_count": null,
   "id": "a8f2eb3c",
   "metadata": {},
   "outputs": [],
   "source": [
    "# 1. crea un diccionario de festivos\n",
    "festivos = {\"06/01\": \"Epifanía del Señor\", \n",
    "            \"15/04\": \"Viernes Santo\", \n",
    "            \"15/08\": \"Asunción de la Virgen\", \n",
    "            \"12/10\": \"Fiesta Nacional de España\", \n",
    "            \"01/11\": \"Todos los Santos\", \n",
    "            \"06/12\": \"Día de la Constitución Española\",  \n",
    "            \"08/12\": \"Inmaculada Concepción\"}"
   ]
  },
  {
   "cell_type": "code",
   "execution_count": 3,
   "id": "9d085059",
   "metadata": {},
   "outputs": [],
   "source": [
    "# 2. Crea el diccionario `monarcas` \n",
    "monarcas = {\"Bélgica\": \"Philippe\", \n",
    "            \"Dinamarca\": \"Margrethe II\", \n",
    "            \"Holanda\": \"Beatrix\", \n",
    "            \"Noruega\": \"Harald V\", \n",
    "            \"España\": \"Felipe VI\", \"Reino Unido\": \"Carlos III\"}"
   ]
  },
  {
   "cell_type": "code",
   "execution_count": 4,
   "id": "ae75950a",
   "metadata": {},
   "outputs": [
    {
     "data": {
      "text/plain": [
       "'Viernes Santo'"
      ]
     },
     "execution_count": 4,
     "metadata": {},
     "output_type": "execute_result"
    }
   ],
   "source": [
    "festivos[\"15/04\"]\n"
   ]
  },
  {
   "cell_type": "code",
   "execution_count": 5,
   "id": "1cf9f5d3",
   "metadata": {},
   "outputs": [
    {
     "data": {
      "text/plain": [
       "{'Bélgica': 'Philippe',\n",
       " 'Dinamarca': 'Margrethe II',\n",
       " 'Holanda': 'Willem-Alexander',\n",
       " 'Noruega': 'Harald V',\n",
       " 'España': 'Felipe VI',\n",
       " 'Reino Unido': 'Carlos III'}"
      ]
     },
     "execution_count": 5,
     "metadata": {},
     "output_type": "execute_result"
    }
   ],
   "source": [
    "monarcas[\"Holanda\"] = \"Willem-Alexander\"\n",
    "monarcas"
   ]
  },
  {
   "cell_type": "code",
   "execution_count": 6,
   "id": "4315f09f",
   "metadata": {},
   "outputs": [
    {
     "data": {
      "text/plain": [
       "{'Bélgica': 'Philippe',\n",
       " 'Dinamarca': 'Margrethe II',\n",
       " 'Holanda': 'Willem-Alexander',\n",
       " 'Noruega': 'Harald V',\n",
       " 'España': 'Felipe VI',\n",
       " 'Reino Unido': 'Carlos III',\n",
       " 'Luxemburgo': 'Henri'}"
      ]
     },
     "execution_count": 6,
     "metadata": {},
     "output_type": "execute_result"
    }
   ],
   "source": [
    "monarcas.update({\"Luxemburgo\": \"Henri\"})\n",
    "monarcas"
   ]
  },
  {
   "cell_type": "code",
   "execution_count": 7,
   "id": "d7881a1d",
   "metadata": {},
   "outputs": [],
   "source": [
    "# 2. Crea el diccionario `monarcas` \n",
    "monarcas = {\"Bélgica\": \"Philippe\", \n",
    "            \"Dinamarca\": \"Margrethe II\", \n",
    "            \"Holanda\": \"Beatrix\", \n",
    "            \"Noruega\": \"Harald V\", \n",
    "            \"España\": \"Felipe VI\", \"Reino Unido\": \"Carlos III\"}"
   ]
  },
  {
   "cell_type": "code",
   "execution_count": 8,
   "id": "083ea129",
   "metadata": {},
   "outputs": [
    {
     "data": {
      "text/plain": [
       "6"
      ]
     },
     "execution_count": 8,
     "metadata": {},
     "output_type": "execute_result"
    }
   ],
   "source": [
    "len(monarcas.keys())\n"
   ]
  },
  {
   "cell_type": "code",
   "execution_count": 9,
   "id": "f3e0bb1f",
   "metadata": {},
   "outputs": [
    {
     "data": {
      "text/plain": [
       "False"
      ]
     },
     "execution_count": 9,
     "metadata": {},
     "output_type": "execute_result"
    }
   ],
   "source": [
    "\"Mónaco\" in monarcas.keys()"
   ]
  },
  {
   "cell_type": "code",
   "execution_count": 10,
   "id": "a833eecd",
   "metadata": {},
   "outputs": [
    {
     "data": {
      "text/plain": [
       "True"
      ]
     },
     "execution_count": 10,
     "metadata": {},
     "output_type": "execute_result"
    }
   ],
   "source": [
    "\"Suecia\" not in monarcas.keys()"
   ]
  },
  {
   "cell_type": "code",
   "execution_count": 11,
   "id": "4936c4ab",
   "metadata": {},
   "outputs": [
    {
     "data": {
      "text/plain": [
       "['Bélgica', 'Dinamarca', 'Holanda', 'Noruega', 'España', 'Reino Unido']"
      ]
     },
     "execution_count": 11,
     "metadata": {},
     "output_type": "execute_result"
    }
   ],
   "source": [
    "list(monarcas.keys())"
   ]
  },
  {
   "cell_type": "code",
   "execution_count": 23,
   "id": "cc1342ff",
   "metadata": {},
   "outputs": [],
   "source": [
    "# 1. crea un diccionario de festivos\n",
    "festivos = {\"06/01\": \"Epifanía del Señor\", \n",
    "            \"15/04\": \"Viernes Santo\", \n",
    "            \"15/08\": \"Asunción de la Virgen\", \n",
    "            \"12/10\": \"Fiesta Nacional de España\", \n",
    "            \"01/11\": \"Todos los Santos\", \n",
    "            \"06/12\": \"Día de la Constitución Española\",  \n",
    "            \"08/12\": \"Inmaculada Concepción\"}"
   ]
  },
  {
   "cell_type": "code",
   "execution_count": 13,
   "id": "49d50a7f",
   "metadata": {},
   "outputs": [
    {
     "data": {
      "text/plain": [
       "['Epifanía del Señor',\n",
       " 'Viernes Santo',\n",
       " 'Asunción de la Virgen',\n",
       " 'Fiesta Nacional de España',\n",
       " 'Todos los Santos',\n",
       " 'Día de la Constitución Española',\n",
       " 'Inmaculada Concepción']"
      ]
     },
     "execution_count": 13,
     "metadata": {},
     "output_type": "execute_result"
    }
   ],
   "source": [
    "list(festivos.values())"
   ]
  },
  {
   "cell_type": "code",
   "execution_count": 24,
   "id": "af462508",
   "metadata": {},
   "outputs": [
    {
     "name": "stdout",
     "output_type": "stream",
     "text": [
      "{'06/01': 'Epifanía del Señor', '15/04': 'Viernes Santo', '15/08': 'Asunción de la Virgen', '12/10': 'Fiesta Nacional de España', '01/11': 'Todos los Santos', '06/12': 'Día de la Constitución Española', '08/12': 'Inmaculada Concepción'}\n"
     ]
    }
   ],
   "source": [
    "print(festivos)"
   ]
  },
  {
   "cell_type": "code",
   "execution_count": null,
   "id": "fc82745e",
   "metadata": {},
   "outputs": [
    {
     "data": {
      "text/plain": [
       "dict"
      ]
     },
     "execution_count": 22,
     "metadata": {},
     "output_type": "execute_result"
    }
   ],
   "source": [
    "festivos\n",
    "type(festivos)"
   ]
  },
  {
   "cell_type": "code",
   "execution_count": 20,
   "id": "91660973",
   "metadata": {},
   "outputs": [
    {
     "name": "stdout",
     "output_type": "stream",
     "text": [
      "dict_items([('06/01', 'Epifanía del Señor'), ('15/04', 'Viernes Santo'), ('15/08', 'Asunción de la Virgen'), ('12/10', 'Fiesta Nacional de España'), ('01/11', 'Todos los Santos'), ('06/12', 'Día de la Constitución Española'), ('08/12', 'Inmaculada Concepción')])\n"
     ]
    }
   ],
   "source": [
    "# 12. Imprime una lista  de tuplas de todos los elementos que hay en festivos.\n",
    "\n",
    "print(festivos.items())"
   ]
  },
  {
   "cell_type": "code",
   "execution_count": 28,
   "id": "ea75bb43",
   "metadata": {},
   "outputs": [
    {
     "name": "stdout",
     "output_type": "stream",
     "text": [
      "{'Bélgica': 'Philippe', 'Dinamarca': 'Margrethe II', 'Holanda': 'Beatrix', 'Noruega': 'Harald V', 'España': 'Felipe VI', 'Reino Unido': 'Carlos III'}\n"
     ]
    }
   ],
   "source": [
    "monarcas2010 = monarcas.copy()\n",
    "print(monarcas2010)"
   ]
  },
  {
   "cell_type": "code",
   "execution_count": 29,
   "id": "14814832",
   "metadata": {},
   "outputs": [
    {
     "data": {
      "text/plain": [
       "dict"
      ]
     },
     "execution_count": 29,
     "metadata": {},
     "output_type": "execute_result"
    }
   ],
   "source": [
    "type(monarcas2010)"
   ]
  }
 ],
 "metadata": {
  "kernelspec": {
   "display_name": "Python 3",
   "language": "python",
   "name": "python3"
  },
  "language_info": {
   "codemirror_mode": {
    "name": "ipython",
    "version": 3
   },
   "file_extension": ".py",
   "mimetype": "text/x-python",
   "name": "python",
   "nbconvert_exporter": "python",
   "pygments_lexer": "ipython3",
   "version": "3.13.3"
  }
 },
 "nbformat": 4,
 "nbformat_minor": 5
}
