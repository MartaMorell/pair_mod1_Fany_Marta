{
 "cells": [
  {
   "cell_type": "markdown",
   "metadata": {},
   "source": [
    "# Ejercicios de Listas y Tuplas\n",
    "\n",
    "## Ejercicios de Listas\n",
    "\n",
    "\n",
    "\n",
    "\n",
    "\n",
    "\n",
    "## Ejercicios de Tuplas\n",
    "\n",
    "### Definir tuplas\n",
    "\n",
    "1. Crea una tupla persona1 para juntar los siguientes datos: 61 kg, 1.54 m altura, pelo marrón, sin usar paréntesis. (Serán del tipo int, float y str.)\n",
    "\n",
    "2. Crea una tupla para la persona2 de 68 kg, 1.65 m y pelo rubio, usando paréntesis.\n",
    "\n",
    "3. Crea una lista talla que recompila 'M', 42, y 39.\n",
    "\n",
    "### Convertir y juntar\n",
    "\n",
    "4. Convierte la lista talla a una tupla.\n",
    "\n",
    "5. Une a la tupla de persona1 los datos en talla, para tener una única tupla.\n",
    "\n",
    "### Indexar tuplas\n",
    "\n",
    "6. Saca de persona2 el contenido del tercer elemento y llámalo color.\n",
    "\n",
    "7. ¿Cuántos elementos hay ahora en persona1? (Es decir, ¿cuál es su longitud?)\n",
    "\n",
    "### Desempaquetar\n",
    "\n",
    "8. Crea las variables peso, altura, color_pelo y llénalas con el contenido de persona1. Imprime color_pelo para comprobar el resultado.\n",
    "\n",
    "### Zipear\n",
    "\n",
    "9. Crea el zip personas con persona1 y persona2.\n",
    "\n",
    "10. ¿Cuántas \"elementos\" tiene personas? ¿Por qué?\n",
    "\n",
    "11. Crea una tupla etiquetas con 'peso', 'altura', y 'color_pelo'.\n",
    "\n",
    "12. Crea al zip de etiquetas, persona1, y persona2, llamado \"todo\".\n",
    "\n",
    "### Manipular zips\n",
    "\n",
    "13. Ordena las propiedades de la variable personas alfabéticamente. ¿Puedes? ¿Por qué?\n"
   ]
  },
  {
   "cell_type": "code",
   "execution_count": null,
   "metadata": {},
   "outputs": [],
   "source": [
    "1. Haz una lista llamada colores donde almacenemos los primeros 6 colores que te vengan a la mente."
   ]
  },
  {
   "cell_type": "code",
   "execution_count": 2,
   "metadata": {},
   "outputs": [
    {
     "name": "stdout",
     "output_type": "stream",
     "text": [
      "<class 'list'>\n"
     ]
    }
   ],
   "source": [
    "colores = [\"amarillo\", \"verde\", \"azul\", \"rojo\", \"marrón\", \"morado\"]\n",
    "print(type(colores))"
   ]
  },
  {
   "cell_type": "code",
   "execution_count": null,
   "metadata": {},
   "outputs": [],
   "source": [
    "2. Haz una lista llamada buses de las líneas de autobuses que pasan por tu casa."
   ]
  },
  {
   "cell_type": "code",
   "execution_count": 4,
   "metadata": {},
   "outputs": [
    {
     "name": "stdout",
     "output_type": "stream",
     "text": [
      "<class 'list'>\n"
     ]
    }
   ],
   "source": [
    "Líneas_buses = [\"línea1\", \"Línea2\" ]\n",
    "print(type(Líneas_buses))"
   ]
  },
  {
   "cell_type": "code",
   "execution_count": null,
   "metadata": {},
   "outputs": [],
   "source": [
    "3. Apunta la previsión de temperaturas máximas para todos los días de esta semana en temperaturas."
   ]
  },
  {
   "cell_type": "code",
   "execution_count": 6,
   "metadata": {},
   "outputs": [
    {
     "name": "stdout",
     "output_type": "stream",
     "text": [
      "<class 'list'>\n"
     ]
    }
   ],
   "source": [
    "temperaturas = [40,25,23,-7,5,18,20]\n",
    "print(type(temperaturas))"
   ]
  },
  {
   "cell_type": "code",
   "execution_count": null,
   "metadata": {},
   "outputs": [],
   "source": [
    "4. Convierte tu(s) nombre(s) a una lista nombres de caracteres."
   ]
  },
  {
   "cell_type": "code",
   "execution_count": 45,
   "metadata": {},
   "outputs": [
    {
     "name": "stdout",
     "output_type": "stream",
     "text": [
      "Fany y Marta\n",
      "<class 'str'>\n",
      "['F', 'a', 'n', 'y', ' ', 'y', ' ', 'M', 'a', 'r', 't', 'a']\n"
     ]
    }
   ],
   "source": [
    "nombres = \"Fany y Marta\"\n",
    "print(nombres)\n",
    "print(type(nombres))\n",
    "\n",
    "nombres_lista = list(nombres)\n",
    "print(nombres_lista)"
   ]
  },
  {
   "cell_type": "code",
   "execution_count": null,
   "metadata": {},
   "outputs": [],
   "source": [
    "5. Convierte tu(s) apellido(s) a una lista apellidos de caracteres."
   ]
  },
  {
   "cell_type": "code",
   "execution_count": 23,
   "metadata": {},
   "outputs": [
    {
     "name": "stdout",
     "output_type": "stream",
     "text": [
      "['M', 'o', 'r', 'e', 'n', 'o', ' ', 'y', ' ', 'M', 'o', 'r', 'e', 'l', 'l']\n"
     ]
    }
   ],
   "source": [
    "apellidos =\"Moreno y Morell\"\n",
    "apellidos_lista = list(apellidos)\n",
    "print(apellidos_lista)"
   ]
  },
  {
   "cell_type": "code",
   "execution_count": null,
   "metadata": {},
   "outputs": [],
   "source": [
    "6. ¿Cuántos búses pasan por tu casa?"
   ]
  },
  {
   "cell_type": "code",
   "execution_count": 24,
   "metadata": {},
   "outputs": [
    {
     "data": {
      "text/plain": [
       "2"
      ]
     },
     "execution_count": 24,
     "metadata": {},
     "output_type": "execute_result"
    }
   ],
   "source": [
    "len(Líneas_buses)"
   ]
  },
  {
   "cell_type": "code",
   "execution_count": null,
   "metadata": {},
   "outputs": [],
   "source": [
    "7. ¿Cuántos caracteres hay en tu apellido(s) (inluyendo los espacios)?"
   ]
  },
  {
   "cell_type": "code",
   "execution_count": 26,
   "metadata": {},
   "outputs": [
    {
     "data": {
      "text/plain": [
       "15"
      ]
     },
     "execution_count": 26,
     "metadata": {},
     "output_type": "execute_result"
    }
   ],
   "source": [
    "len(apellidos)"
   ]
  },
  {
   "cell_type": "code",
   "execution_count": 27,
   "metadata": {},
   "outputs": [
    {
     "data": {
      "text/plain": [
       "15"
      ]
     },
     "execution_count": 27,
     "metadata": {},
     "output_type": "execute_result"
    }
   ],
   "source": [
    "len(apellidos_lista)"
   ]
  },
  {
   "cell_type": "code",
   "execution_count": null,
   "metadata": {},
   "outputs": [],
   "source": [
    "8. ¿Cuáles son las temperaturas máximas (t_max) y mínimas (t_min) para esta semana?"
   ]
  },
  {
   "cell_type": "code",
   "execution_count": 32,
   "metadata": {},
   "outputs": [
    {
     "name": "stdout",
     "output_type": "stream",
     "text": [
      "40\n",
      "-7\n"
     ]
    }
   ],
   "source": [
    "t_max = max(temperaturas)\n",
    "print(t_max)\n",
    "t_min = min(temperaturas)\n",
    "print(t_min)"
   ]
  },
  {
   "cell_type": "code",
   "execution_count": null,
   "metadata": {},
   "outputs": [],
   "source": [
    "\n",
    "9. Hay una 'e' en tu nombre?"
   ]
  },
  {
   "cell_type": "code",
   "execution_count": 34,
   "metadata": {},
   "outputs": [
    {
     "data": {
      "text/plain": [
       "False"
      ]
     },
     "execution_count": 34,
     "metadata": {},
     "output_type": "execute_result"
    }
   ],
   "source": [
    "\"e\" in nombres\n"
   ]
  },
  {
   "cell_type": "code",
   "execution_count": null,
   "metadata": {},
   "outputs": [],
   "source": [
    "10. Tienes el color 'rosa' en la lista de colores?"
   ]
  },
  {
   "cell_type": "code",
   "execution_count": 35,
   "metadata": {},
   "outputs": [
    {
     "data": {
      "text/plain": [
       "False"
      ]
     },
     "execution_count": 35,
     "metadata": {},
     "output_type": "execute_result"
    }
   ],
   "source": [
    "\"rosa\" in colores"
   ]
  },
  {
   "cell_type": "code",
   "execution_count": null,
   "metadata": {},
   "outputs": [],
   "source": [
    "11. ¿Tiene una 'x' tu nombre? (Usa not in)"
   ]
  },
  {
   "cell_type": "code",
   "execution_count": 36,
   "metadata": {},
   "outputs": [
    {
     "data": {
      "text/plain": [
       "True"
      ]
     },
     "execution_count": 36,
     "metadata": {},
     "output_type": "execute_result"
    }
   ],
   "source": [
    "\"x\" not in nombres"
   ]
  },
  {
   "cell_type": "code",
   "execution_count": null,
   "metadata": {},
   "outputs": [],
   "source": [
    "12. Copia el contenido de temperaturas a temperaturas2, y temperaturas3."
   ]
  },
  {
   "cell_type": "code",
   "execution_count": 40,
   "metadata": {},
   "outputs": [
    {
     "name": "stdout",
     "output_type": "stream",
     "text": [
      "[40, 25, 23, -7, 5, 18, 20]\n",
      "[40, 25, 23, -7, 5, 18, 20]\n"
     ]
    }
   ],
   "source": [
    "temperaturas2 = temperaturas.copy()\n",
    "print(temperaturas2)\n",
    "\n",
    "temperaturas3 = temperaturas.copy()\n",
    "print(temperaturas3)"
   ]
  },
  {
   "cell_type": "code",
   "execution_count": null,
   "metadata": {},
   "outputs": [],
   "source": [
    "13. Vacía el contenido de la variable temperaturas2"
   ]
  },
  {
   "cell_type": "code",
   "execution_count": 42,
   "metadata": {},
   "outputs": [
    {
     "name": "stdout",
     "output_type": "stream",
     "text": [
      "[]\n"
     ]
    }
   ],
   "source": [
    "temperaturas2.clear()\n",
    "print(temperaturas2)"
   ]
  },
  {
   "cell_type": "code",
   "execution_count": null,
   "metadata": {},
   "outputs": [],
   "source": [
    "14. Imprime el contenido de temperaturas y temperaturas2."
   ]
  },
  {
   "cell_type": "code",
   "execution_count": 43,
   "metadata": {},
   "outputs": [
    {
     "name": "stdout",
     "output_type": "stream",
     "text": [
      "[40, 25, 23, -7, 5, 18, 20]\n"
     ]
    }
   ],
   "source": [
    "print(temperaturas)"
   ]
  },
  {
   "cell_type": "code",
   "execution_count": null,
   "metadata": {},
   "outputs": [],
   "source": [
    "15. Copia el contenido de nombres a nombres2."
   ]
  },
  {
   "cell_type": "code",
   "execution_count": 44,
   "metadata": {},
   "outputs": [
    {
     "ename": "AttributeError",
     "evalue": "'str' object has no attribute 'copy'",
     "output_type": "error",
     "traceback": [
      "\u001b[31m---------------------------------------------------------------------------\u001b[39m",
      "\u001b[31mAttributeError\u001b[39m                            Traceback (most recent call last)",
      "\u001b[36mCell\u001b[39m\u001b[36m \u001b[39m\u001b[32mIn[44]\u001b[39m\u001b[32m, line 1\u001b[39m\n\u001b[32m----> \u001b[39m\u001b[32m1\u001b[39m nombres2 = \u001b[43mnombres\u001b[49m\u001b[43m.\u001b[49m\u001b[43mcopy\u001b[49m()\n",
      "\u001b[31mAttributeError\u001b[39m: 'str' object has no attribute 'copy'"
     ]
    }
   ],
   "source": [
    "nombres2 = nombres.copy()"
   ]
  },
  {
   "cell_type": "code",
   "execution_count": 47,
   "metadata": {},
   "outputs": [
    {
     "name": "stdout",
     "output_type": "stream",
     "text": [
      "['F', 'a', 'n', 'y', ' ', 'y', ' ', 'M', 'a', 'r', 't', 'a']\n"
     ]
    }
   ],
   "source": [
    "nombres2 = nombres_lista.copy()\n",
    "print(nombres2)\n"
   ]
  },
  {
   "cell_type": "code",
   "execution_count": null,
   "metadata": {},
   "outputs": [],
   "source": [
    "16. Copia el contenido de apellidos a apellidos2."
   ]
  },
  {
   "cell_type": "code",
   "execution_count": 52,
   "metadata": {},
   "outputs": [
    {
     "name": "stdout",
     "output_type": "stream",
     "text": [
      "['M', 'o', 'r', 'e', 'n', 'o', ' ', 'y', ' ', 'M', 'o', 'r', 'e', 'l', 'l']\n",
      "<class 'list'>\n"
     ]
    }
   ],
   "source": [
    "apellidos2 = apellidos_lista.copy()\n",
    "print(apellidos2)\n",
    "print(type(apellidos2))"
   ]
  },
  {
   "cell_type": "code",
   "execution_count": null,
   "metadata": {},
   "outputs": [],
   "source": [
    "17. Ordena la variable temperaturas3 de mayor a menor."
   ]
  },
  {
   "cell_type": "code",
   "execution_count": 57,
   "metadata": {},
   "outputs": [
    {
     "name": "stdout",
     "output_type": "stream",
     "text": [
      "[-7, 5, 18, 20, 23, 25, 40]\n"
     ]
    }
   ],
   "source": [
    "temperaturas3 = sorted(temperaturas)\n",
    "print(temperaturas3)"
   ]
  },
  {
   "cell_type": "code",
   "execution_count": 59,
   "metadata": {},
   "outputs": [
    {
     "name": "stdout",
     "output_type": "stream",
     "text": [
      "[-7, 5, 18, 20, 23, 25, 40]\n"
     ]
    }
   ],
   "source": [
    "temperaturas3.reverse()\n",
    "print(temperaturas3)"
   ]
  },
  {
   "cell_type": "code",
   "execution_count": 5,
   "metadata": {},
   "outputs": [
    {
     "ename": "SyntaxError",
     "evalue": "invalid syntax (2401993419.py, line 1)",
     "output_type": "error",
     "traceback": [
      "  \u001b[36mCell\u001b[39m\u001b[36m \u001b[39m\u001b[32mIn[5]\u001b[39m\u001b[32m, line 1\u001b[39m\n\u001b[31m    \u001b[39m\u001b[31mtemperaturas3.(sort(reverse = True))\u001b[39m\n                  ^\n\u001b[31mSyntaxError\u001b[39m\u001b[31m:\u001b[39m invalid syntax\n"
     ]
    }
   ],
   "source": [
    "temperaturas3.(sort(reverse = True))\n"
   ]
  },
  {
   "cell_type": "code",
   "execution_count": 6,
   "metadata": {},
   "outputs": [
    {
     "ename": "NameError",
     "evalue": "name 'temperaturas3' is not defined",
     "output_type": "error",
     "traceback": [
      "\u001b[31m---------------------------------------------------------------------------\u001b[39m",
      "\u001b[31mNameError\u001b[39m                                 Traceback (most recent call last)",
      "\u001b[36mCell\u001b[39m\u001b[36m \u001b[39m\u001b[32mIn[6]\u001b[39m\u001b[32m, line 1\u001b[39m\n\u001b[32m----> \u001b[39m\u001b[32m1\u001b[39m \u001b[38;5;28mprint\u001b[39m(\u001b[43mtemperaturas3\u001b[49m)\n",
      "\u001b[31mNameError\u001b[39m: name 'temperaturas3' is not defined"
     ]
    }
   ],
   "source": [
    "print(temperaturas3)"
   ]
  },
  {
   "cell_type": "code",
   "execution_count": 11,
   "metadata": {},
   "outputs": [
    {
     "name": "stdout",
     "output_type": "stream",
     "text": [
      "[40, 25, 23, 20, 18, 5, -7]\n"
     ]
    }
   ],
   "source": [
    "\n",
    "temperaturas = [40,25,23,-7,5,18,20]\n",
    "temperaturas3 = temperaturas.copy()\n",
    "temperaturas3.sort(reverse = True)\n",
    "print(temperaturas3)"
   ]
  },
  {
   "cell_type": "code",
   "execution_count": null,
   "metadata": {},
   "outputs": [],
   "source": []
  },
  {
   "cell_type": "code",
   "execution_count": null,
   "metadata": {},
   "outputs": [],
   "source": [
    "18. Ordena los caracteres de tu nombre y tu apellido en las listas nombres2 y apellidos2. Imprime el resultado y investiga: ¿qué orden ha cogido? ¿Cómo trata las mayúsculas?"
   ]
  },
  {
   "cell_type": "code",
   "execution_count": null,
   "metadata": {},
   "outputs": [
    {
     "name": "stdout",
     "output_type": "stream",
     "text": [
      "[' ', ' ', 'F', 'M', 'a', 'a', 'a', 'n', 'r', 't', 'y', 'y']\n"
     ]
    }
   ],
   "source": [
    "nombres2.sort()\n",
    "print(nombres2)\n",
    "\n"
   ]
  },
  {
   "cell_type": "code",
   "execution_count": 64,
   "metadata": {},
   "outputs": [
    {
     "name": "stdout",
     "output_type": "stream",
     "text": [
      "[' ', ' ', 'M', 'M', 'e', 'e', 'l', 'l', 'n', 'o', 'o', 'o', 'r', 'r', 'y']\n"
     ]
    }
   ],
   "source": [
    "apellidos2.sort()\n",
    "print(apellidos2)"
   ]
  },
  {
   "cell_type": "code",
   "execution_count": null,
   "metadata": {},
   "outputs": [],
   "source": [
    "19. ¿Cuántas 'a' tiene tu nombre? ¿Y cuántas 'o'?"
   ]
  },
  {
   "cell_type": "code",
   "execution_count": 68,
   "metadata": {},
   "outputs": [
    {
     "data": {
      "text/plain": [
       "3"
      ]
     },
     "execution_count": 68,
     "metadata": {},
     "output_type": "execute_result"
    }
   ],
   "source": [
    "nombres.count(\"a\")"
   ]
  },
  {
   "cell_type": "code",
   "execution_count": 72,
   "metadata": {},
   "outputs": [
    {
     "data": {
      "text/plain": [
       "3"
      ]
     },
     "execution_count": 72,
     "metadata": {},
     "output_type": "execute_result"
    }
   ],
   "source": [
    "apellidos.count(\"o\")"
   ]
  },
  {
   "cell_type": "code",
   "execution_count": 70,
   "metadata": {},
   "outputs": [
    {
     "data": {
      "text/plain": [
       "3"
      ]
     },
     "execution_count": 70,
     "metadata": {},
     "output_type": "execute_result"
    }
   ],
   "source": [
    "nombres2.count(\"a\")"
   ]
  },
  {
   "cell_type": "code",
   "execution_count": 71,
   "metadata": {},
   "outputs": [
    {
     "data": {
      "text/plain": [
       "3"
      ]
     },
     "execution_count": 71,
     "metadata": {},
     "output_type": "execute_result"
    }
   ],
   "source": [
    "apellidos2.count(\"o\")"
   ]
  },
  {
   "cell_type": "code",
   "execution_count": null,
   "metadata": {},
   "outputs": [],
   "source": [
    "20. Verifica si los resultados de ejercicio 19 son iguales para la lista nombres2."
   ]
  },
  {
   "cell_type": "code",
   "execution_count": null,
   "metadata": {},
   "outputs": [],
   "source": [
    "21. ¿Cuántas veces esta semana llega la temperatura a la t_max? ¿Y cuántas a la t_min?"
   ]
  },
  {
   "cell_type": "code",
   "execution_count": null,
   "metadata": {},
   "outputs": [],
   "source": []
  },
  {
   "cell_type": "code",
   "execution_count": 73,
   "metadata": {},
   "outputs": [
    {
     "ename": "AttributeError",
     "evalue": "'int' object has no attribute 'count'",
     "output_type": "error",
     "traceback": [
      "\u001b[31m---------------------------------------------------------------------------\u001b[39m",
      "\u001b[31mAttributeError\u001b[39m                            Traceback (most recent call last)",
      "\u001b[36mCell\u001b[39m\u001b[36m \u001b[39m\u001b[32mIn[73]\u001b[39m\u001b[32m, line 1\u001b[39m\n\u001b[32m----> \u001b[39m\u001b[32m1\u001b[39m \u001b[43mt_max\u001b[49m\u001b[43m.\u001b[49m\u001b[43mcount\u001b[49m(\u001b[32m40\u001b[39m)\n",
      "\u001b[31mAttributeError\u001b[39m: 'int' object has no attribute 'count'"
     ]
    }
   ],
   "source": [
    "t_max.count(40)"
   ]
  },
  {
   "cell_type": "code",
   "execution_count": null,
   "metadata": {},
   "outputs": [],
   "source": [
    "temperaturas.count(t_max)\n",
    "temperaturas.count(40)"
   ]
  },
  {
   "cell_type": "code",
   "execution_count": 75,
   "metadata": {},
   "outputs": [
    {
     "data": {
      "text/plain": [
       "1"
      ]
     },
     "execution_count": 75,
     "metadata": {},
     "output_type": "execute_result"
    }
   ],
   "source": [
    "temperaturas.count(t_max)"
   ]
  },
  {
   "cell_type": "code",
   "execution_count": 76,
   "metadata": {},
   "outputs": [
    {
     "data": {
      "text/plain": [
       "1"
      ]
     },
     "execution_count": 76,
     "metadata": {},
     "output_type": "execute_result"
    }
   ],
   "source": [
    "temperaturas.count(t_min)"
   ]
  },
  {
   "cell_type": "code",
   "execution_count": null,
   "metadata": {},
   "outputs": [],
   "source": [
    "22. La lista dias_en contiene 'monday', 'tuesday', 'wednesday', 'thursday', 'friday', 'saturday', y 'sunday'."
   ]
  },
  {
   "cell_type": "code",
   "execution_count": null,
   "metadata": {},
   "outputs": [],
   "source": []
  },
  {
   "cell_type": "code",
   "execution_count": null,
   "metadata": {},
   "outputs": [],
   "source": [
    "23. Define temperaturas_diciembre:\n",
    "```python\n",
    "temperaturas_diciembre = [10, 10, 13, 14, 12, 15,\n",
    "                          12, 11, 13, 17, 18, 15,\n",
    "                          15, 17, 17, 13, 13, 11,\n",
    "                          12, 10, 12, 14, 12, 12,\n",
    "                          11, 12, 16, 16, 14, 17, 18]\n",
    "```"
   ]
  },
  {
   "cell_type": "code",
   "execution_count": null,
   "metadata": {},
   "outputs": [],
   "source": [
    "24. ¿Cuál es el penúltimo día de la semana?"
   ]
  },
  {
   "cell_type": "code",
   "execution_count": null,
   "metadata": {},
   "outputs": [],
   "source": [
    "25. ¿Cuál es el último elemento de la lista de temperaturas de diciembre?"
   ]
  },
  {
   "cell_type": "code",
   "execution_count": null,
   "metadata": {},
   "outputs": [],
   "source": [
    "26. ¿Está 'friday' en la lista de días en inglés? Si está, ¿dónde?"
   ]
  },
  {
   "cell_type": "code",
   "execution_count": null,
   "metadata": {},
   "outputs": [],
   "source": [
    "27. ¿Cuál era la temperatura máxima en diciembre?"
   ]
  },
  {
   "cell_type": "code",
   "execution_count": null,
   "metadata": {},
   "outputs": [],
   "source": [
    "28. Encuentra el índice de 'miércoles' en dias_es."
   ]
  },
  {
   "cell_type": "code",
   "execution_count": null,
   "metadata": {},
   "outputs": [],
   "source": [
    "29. (Bonus) Imprime esta frase en pantalla: 'La temperatura máxima esta semana será 14 ºC, que ocurrirá en 1 días(s). El día más frío tendrá una temperatura máxima de 10 ºC, que ocurrirá en 2 día(s).'"
   ]
  },
  {
   "cell_type": "code",
   "execution_count": null,
   "metadata": {},
   "outputs": [],
   "source": []
  },
  {
   "cell_type": "code",
   "execution_count": null,
   "metadata": {},
   "outputs": [],
   "source": []
  },
  {
   "cell_type": "code",
   "execution_count": null,
   "metadata": {},
   "outputs": [],
   "source": []
  }
 ],
 "metadata": {
  "kernelspec": {
   "display_name": "Python 3",
   "language": "python",
   "name": "python3"
  },
  "language_info": {
   "codemirror_mode": {
    "name": "ipython",
    "version": 3
   },
   "file_extension": ".py",
   "mimetype": "text/x-python",
   "name": "python",
   "nbconvert_exporter": "python",
   "pygments_lexer": "ipython3",
   "version": "3.13.3"
  }
 },
 "nbformat": 4,
 "nbformat_minor": 4
}
