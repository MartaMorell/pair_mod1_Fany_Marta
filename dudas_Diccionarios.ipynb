{
 "cells": [
  {
   "cell_type": "code",
   "execution_count": null,
   "id": "8bc70e78",
   "metadata": {},
   "outputs": [],
   "source": [
    "contactos.values()   # por qué el resultado es el mismo cuando se trata de la misma línea de comando?"
   ]
  },
  {
   "cell_type": "code",
   "execution_count": null,
   "id": "bdf5119a",
   "metadata": {},
   "outputs": [],
   "source": [
    "dict_values([12345, 67890])"
   ]
  },
  {
   "cell_type": "code",
   "execution_count": null,
   "id": "e9beba4d",
   "metadata": {},
   "outputs": [],
   "source": [
    "contactos.values()  # por qué el resultado es el mismo cuando se trata de la misma línea de comando?"
   ]
  },
  {
   "cell_type": "code",
   "execution_count": null,
   "id": "03f5d9b2",
   "metadata": {},
   "outputs": [],
   "source": [
    "dict_values([[12345, 7162786186, 18297319], 67890])"
   ]
  },
  {
   "cell_type": "code",
   "execution_count": null,
   "id": "76c12065",
   "metadata": {},
   "outputs": [],
   "source": [
    "# Modificar valor en el diccionario\n",
    "actualizar['ciudad'] = 'Madrid'                 #VA ENTRE CORCHETES CUANDO SE ACTUALIZA CON OTRO DICCIONARIO?????\n",
    "\n",
    "actualizar\n",
    "\n",
    "\n",
    "{'ciudad': 'Madrid', 'telefono': 876543637}\n",
    "\n",
    "\n",
    "         info = {\"nombre\": \"Ana\"}                                   #TB SE HACE EL UPDATE CON OTRO DICCIONARIO IGUAL QUE CON LA TUPLA\n",
    "otro_diccionario = {\"edad\": 30, \"ciudad\": \"Madrid\"}\n",
    "info.update(otro_diccionario)      \n",
    "\n",
    "info\n",
    "{'nombre': 'Ana', 'edad': 30, 'ciudad': 'Madrid'}"
   ]
  },
  {
   "cell_type": "code",
   "execution_count": null,
   "id": "1a5887ff",
   "metadata": {},
   "outputs": [],
   "source": [
    "[('clave1', 'valor1'), ('valor3', 'valor4')] # Ejemplo de lista de tuplas\n",
    "                                            \n",
    "                                            #CON LA TUPLA SÍ SE USA EL UPDATE Y TB VA ENTRE CORCHETES PQ ES UNA LISTA DE TUPLAS\n",
    "               "
   ]
  },
  {
   "cell_type": "markdown",
   "id": "42d0b417",
   "metadata": {},
   "source": [
    "## Acceder a elementos"
   ]
  },
  {
   "cell_type": "code",
   "execution_count": null,
   "id": "289ffd00",
   "metadata": {},
   "outputs": [],
   "source": [
    "contactos = {\"Ana\": 12345, \"Luis\": 67890}\n",
    "\n",
    "contactos['Ana']   #SE ACCEDE A ELEMENTOS COMO SI FUERA UN IDEX, POR ESO LOS CORCHETES??\n",
    "12345\n"
   ]
  }
 ],
 "metadata": {
  "language_info": {
   "name": "python"
  }
 },
 "nbformat": 4,
 "nbformat_minor": 5
}
