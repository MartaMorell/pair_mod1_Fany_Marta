{
 "cells": [
  {
   "cell_type": "markdown",
   "id": "aacbd8c1",
   "metadata": {},
   "source": [
    "\n",
    "Calcular el área de un círculo.\n",
    "\n",
    "Descripción: Crea una función llamada calcular_area_circulo que tome el radio como parámetro y devuelva el área del círculo.\n",
    "\n",
    "NOTA: Os dejamos aquí un link para recordar comose calculaba el área de un círculo."
   ]
  },
  {
   "cell_type": "code",
   "execution_count": 32,
   "id": "29d5983f",
   "metadata": {},
   "outputs": [],
   "source": [
    "def calcular_área_círculo(radio):\n",
    "    área_del_círculo = 3.14 * (radio**2)\n",
    "    print(área_del_círculo)"
   ]
  },
  {
   "cell_type": "code",
   "execution_count": 33,
   "id": "1c2ade47",
   "metadata": {},
   "outputs": [
    {
     "name": "stdout",
     "output_type": "stream",
     "text": [
      "50.24\n"
     ]
    }
   ],
   "source": [
    "calcular_área_círculo(4)"
   ]
  },
  {
   "cell_type": "code",
   "execution_count": 34,
   "id": "89f6c08c",
   "metadata": {},
   "outputs": [
    {
     "name": "stdout",
     "output_type": "stream",
     "text": [
      "3.14\n"
     ]
    }
   ],
   "source": [
    "área_del_círculo = 3.14\n",
    "print(área_del_círculo)"
   ]
  },
  {
   "cell_type": "markdown",
   "id": "67b089e5",
   "metadata": {},
   "source": []
  },
  {
   "cell_type": "markdown",
   "id": "83a79b4a",
   "metadata": {},
   "source": [
    "\n",
    "2 Contar la cantidad de caracteres en una cadena.\n",
    "\n",
    "Descripción: Crea una función llamada contar_caracteres que tome una cadena como parámetro y devuelva la cantidad de caracteres que contiene."
   ]
  },
  {
   "cell_type": "code",
   "execution_count": 37,
   "id": "f5c0307e",
   "metadata": {},
   "outputs": [],
   "source": [
    "def contar_caracteres(cadena):\n",
    "    cantidad_caracteres = \"Marta\"\n",
    "    \n",
    "    for letra in cadena:\n",
    "        len(cadena)\n",
    "    \n",
    "    return cantidad_caracteres\n",
    "\n",
    "# cadena = \"Marta\"\n",
    "# len(cadena)\n",
    "\n",
    "     "
   ]
  },
  {
   "cell_type": "code",
   "execution_count": 44,
   "id": "cd9f49ee",
   "metadata": {},
   "outputs": [
    {
     "data": {
      "text/plain": [
       "<function __main__.contar_caracteres(cadena)>"
      ]
     },
     "execution_count": 44,
     "metadata": {},
     "output_type": "execute_result"
    }
   ],
   "source": [
    "contar_caracteres\n"
   ]
  },
  {
   "cell_type": "code",
   "execution_count": null,
   "id": "3bb7780b",
   "metadata": {},
   "outputs": [],
   "source": [
    "def contar_caracteres(cadena):\n",
    "    cadena = \"Marta\"\n",
    "    cantidad_caracteres = len(cadena)\n",
    "    \n",
    "    for letra in cadena:\n",
    "        len(cadena)\n",
    "    \n",
    "    return cadena\n",
    "\n",
    "# cadena = \"Marta\"\n",
    "# len(cadena)\n"
   ]
  },
  {
   "cell_type": "code",
   "execution_count": 50,
   "id": "7b83b255",
   "metadata": {},
   "outputs": [
    {
     "data": {
      "text/plain": [
       "'Marta'"
      ]
     },
     "execution_count": 50,
     "metadata": {},
     "output_type": "execute_result"
    }
   ],
   "source": [
    "cadena"
   ]
  },
  {
   "cell_type": "code",
   "execution_count": 52,
   "id": "bb00cd08",
   "metadata": {},
   "outputs": [],
   "source": [
    "def contar_caracteres(cadena):\n",
    "    cadena = \"Marta\"\n",
    "    len(cantidad_caracteres)\n",
    "      \n",
    "    return(cantidad_caracteres)"
   ]
  },
  {
   "cell_type": "code",
   "execution_count": 53,
   "id": "847cda4a",
   "metadata": {},
   "outputs": [
    {
     "data": {
      "text/plain": [
       "'Marta'"
      ]
     },
     "execution_count": 53,
     "metadata": {},
     "output_type": "execute_result"
    }
   ],
   "source": [
    "cantidad_caracteres"
   ]
  },
  {
   "cell_type": "markdown",
   "id": "a7498a54",
   "metadata": {},
   "source": [
    "2 Contar la cantidad de caracteres en una cadena.\n",
    "\n",
    "Descripción: Crea una función llamada contar_caracteres que tome una cadena como parámetro y devuelva la cantidad de caracteres que contiene."
   ]
  },
  {
   "cell_type": "code",
   "execution_count": null,
   "id": "69e8c29d",
   "metadata": {},
   "outputs": [],
   "source": [
    "\n",
    "\n",
    "def contar_caracteres(cadena_texto):\n",
    "    cantidad_caracteres = ()\n",
    "\n",
    "    for caracter in cadena_texto:\n",
    "        if caracter in cadena_texto\n",
    "   \n",
    "\n",
    "    "
   ]
  },
  {
   "cell_type": "code",
   "execution_count": 56,
   "id": "012936a0",
   "metadata": {},
   "outputs": [
    {
     "data": {
      "text/plain": [
       "'Ejemplo'"
      ]
     },
     "execution_count": 56,
     "metadata": {},
     "output_type": "execute_result"
    }
   ],
   "source": [
    "cadena_texto"
   ]
  }
 ],
 "metadata": {
  "kernelspec": {
   "display_name": "Python 3",
   "language": "python",
   "name": "python3"
  },
  "language_info": {
   "codemirror_mode": {
    "name": "ipython",
    "version": 3
   },
   "file_extension": ".py",
   "mimetype": "text/x-python",
   "name": "python",
   "nbconvert_exporter": "python",
   "pygments_lexer": "ipython3",
   "version": "3.13.3"
  }
 },
 "nbformat": 4,
 "nbformat_minor": 5
}
